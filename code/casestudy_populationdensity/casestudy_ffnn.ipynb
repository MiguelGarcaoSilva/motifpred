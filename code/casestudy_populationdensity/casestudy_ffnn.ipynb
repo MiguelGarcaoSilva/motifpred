{
 "cells": [
  {
   "cell_type": "code",
   "execution_count": 1,
   "metadata": {},
   "outputs": [
    {
     "name": "stderr",
     "output_type": "stream",
     "text": [
      "2025-02-04 17:12:14,886 - INFO - Results will be saved in: /home/mgsilva/motifpred/results/populationdensity\n",
      "2025-02-04 17:12:14,887 - INFO - Images will be saved in: /home/mgsilva/motifpred/images/populationdensity\n",
      "2025-02-04 17:12:14,887 - INFO - Data will be accessed from: /home/mgsilva/motifpred/data/populationdensity\n"
     ]
    },
    {
     "name": "stdout",
     "output_type": "stream",
     "text": [
      "Results will be saved in: /home/mgsilva/motifpred/results/populationdensity\n",
      "Images will be saved in: /home/mgsilva/motifpred/images/populationdensity\n",
      "Data will be accessed from: /home/mgsilva/motifpred/data/populationdensity\n"
     ]
    }
   ],
   "source": [
    "import numpy as np\n",
    "import pandas as pd\n",
    "import os\n",
    "import sys\n",
    "import csv\n",
    "import matplotlib.pyplot as plt\n",
    "import matplotlib.dates as mdates\n",
    "import matplotlib.image as mpimg\n",
    "import optuna\n",
    "import random\n",
    "import joblib\n",
    "import math\n",
    "import ast\n",
    "import logging\n",
    "from msig import Motif, NullModel\n",
    "from config import RESULTS_MOTIF_DIR, RESULTS_DIR, IMAGES_DIR, DATA_DIR, DATASET_PATH, TOWNSHIP_NAME, VARIABLES, NORMALIZE_FLAGS, STUMPY_EXCL_ZONE_DENOM, TOP_K_MP, INCLUDE, NORMALIZE, SUBSQUENCES_LENGTHS, NTOP_MOTIFS, MOTIF_SIZE\n",
    "\n",
    "optuna.logging.set_verbosity(optuna.logging.WARNING)\n",
    "\n",
    "print(f\"Results will be saved in: {RESULTS_DIR}\")\n",
    "print(f\"Images will be saved in: {IMAGES_DIR}\")\n",
    "print(f\"Data will be accessed from: {DATA_DIR}\")\n",
    "\n",
    "\n",
    "if '__file__' in globals():\n",
    "    # For standalone scripts\n",
    "    base_dir = os.path.dirname(__file__)\n",
    "else:\n",
    "    # For Jupyter or interactive environments\n",
    "    base_dir = os.getcwd()\n",
    "\n",
    "# Add the parent directory of `utils` to the Python path\n",
    "sys.path.append(os.path.abspath(os.path.join(base_dir, \"../\")))"
   ]
  },
  {
   "cell_type": "code",
   "execution_count": 2,
   "metadata": {},
   "outputs": [],
   "source": [
    "mp_stats_table = pd.read_csv(\n",
    "    RESULTS_DIR / f\"mp_stats_table_normalized_{NORMALIZE}_top_{TOP_K_MP}.csv\"\n",
    ")\n",
    "mp_stats_table = mp_stats_table[mp_stats_table[\"m\"] == MOTIF_SIZE]\n",
    "top_motifs = mp_stats_table.sort_values(by=[\"#Matches\", \"ID\"], ascending=[False, True]).head(NTOP_MOTIFS)\n",
    "top_motifs = top_motifs[[\"m\", \"Indices\"]]"
   ]
  },
  {
   "cell_type": "code",
   "execution_count": 3,
   "metadata": {},
   "outputs": [
    {
     "data": {
      "text/html": [
       "<div>\n",
       "<style scoped>\n",
       "    .dataframe tbody tr th:only-of-type {\n",
       "        vertical-align: middle;\n",
       "    }\n",
       "\n",
       "    .dataframe tbody tr th {\n",
       "        vertical-align: top;\n",
       "    }\n",
       "\n",
       "    .dataframe thead th {\n",
       "        text-align: right;\n",
       "    }\n",
       "</style>\n",
       "<table border=\"1\" class=\"dataframe\">\n",
       "  <thead>\n",
       "    <tr style=\"text-align: right;\">\n",
       "      <th></th>\n",
       "      <th></th>\n",
       "      <th>sum_terminals</th>\n",
       "    </tr>\n",
       "    <tr>\n",
       "      <th>one_time</th>\n",
       "      <th>township_name</th>\n",
       "      <th></th>\n",
       "    </tr>\n",
       "  </thead>\n",
       "  <tbody>\n",
       "    <tr>\n",
       "      <th>2021-09-15 00:00:00</th>\n",
       "      <th>Avenidas Novas</th>\n",
       "      <td>260700.0</td>\n",
       "    </tr>\n",
       "    <tr>\n",
       "      <th>2021-09-15 01:00:00</th>\n",
       "      <th>Avenidas Novas</th>\n",
       "      <td>276675.0</td>\n",
       "    </tr>\n",
       "    <tr>\n",
       "      <th>2021-09-15 02:00:00</th>\n",
       "      <th>Avenidas Novas</th>\n",
       "      <td>284563.0</td>\n",
       "    </tr>\n",
       "    <tr>\n",
       "      <th>2021-09-15 03:00:00</th>\n",
       "      <th>Avenidas Novas</th>\n",
       "      <td>279563.0</td>\n",
       "    </tr>\n",
       "    <tr>\n",
       "      <th>2021-09-15 04:00:00</th>\n",
       "      <th>Avenidas Novas</th>\n",
       "      <td>281460.0</td>\n",
       "    </tr>\n",
       "    <tr>\n",
       "      <th>...</th>\n",
       "      <th>...</th>\n",
       "      <td>...</td>\n",
       "    </tr>\n",
       "    <tr>\n",
       "      <th>2021-11-30 19:00:00</th>\n",
       "      <th>Avenidas Novas</th>\n",
       "      <td>391367.0</td>\n",
       "    </tr>\n",
       "    <tr>\n",
       "      <th>2021-11-30 20:00:00</th>\n",
       "      <th>Avenidas Novas</th>\n",
       "      <td>352361.0</td>\n",
       "    </tr>\n",
       "    <tr>\n",
       "      <th>2021-11-30 21:00:00</th>\n",
       "      <th>Avenidas Novas</th>\n",
       "      <td>388246.0</td>\n",
       "    </tr>\n",
       "    <tr>\n",
       "      <th>2021-11-30 22:00:00</th>\n",
       "      <th>Avenidas Novas</th>\n",
       "      <td>360169.0</td>\n",
       "    </tr>\n",
       "    <tr>\n",
       "      <th>2021-11-30 23:00:00</th>\n",
       "      <th>Avenidas Novas</th>\n",
       "      <td>349164.0</td>\n",
       "    </tr>\n",
       "  </tbody>\n",
       "</table>\n",
       "<p>1848 rows × 1 columns</p>\n",
       "</div>"
      ],
      "text/plain": [
       "                                    sum_terminals\n",
       "one_time            township_name                \n",
       "2021-09-15 00:00:00 Avenidas Novas       260700.0\n",
       "2021-09-15 01:00:00 Avenidas Novas       276675.0\n",
       "2021-09-15 02:00:00 Avenidas Novas       284563.0\n",
       "2021-09-15 03:00:00 Avenidas Novas       279563.0\n",
       "2021-09-15 04:00:00 Avenidas Novas       281460.0\n",
       "...                                           ...\n",
       "2021-11-30 19:00:00 Avenidas Novas       391367.0\n",
       "2021-11-30 20:00:00 Avenidas Novas       352361.0\n",
       "2021-11-30 21:00:00 Avenidas Novas       388246.0\n",
       "2021-11-30 22:00:00 Avenidas Novas       360169.0\n",
       "2021-11-30 23:00:00 Avenidas Novas       349164.0\n",
       "\n",
       "[1848 rows x 1 columns]"
      ]
     },
     "execution_count": 3,
     "metadata": {},
     "output_type": "execute_result"
    }
   ],
   "source": [
    "# read csv\n",
    "data_df = pd.read_csv(\n",
    "    DATASET_PATH,\n",
    "    parse_dates=[\"one_time\"],\n",
    "    date_format=\"%Y-%m-%d %H:%M:%S\",\n",
    "    index_col=0,\n",
    ")\n",
    "\n",
    "data_df = data_df[data_df[\"township_name\"] == TOWNSHIP_NAME]\n",
    "#set index to one_time and township_name\n",
    "data_df = data_df.set_index([\"one_time\", \"township_name\"]).sort_index()[VARIABLES]\n",
    "data = data_df.to_numpy().T\n",
    "data_univar = data[0]\n",
    "data_df"
   ]
  },
  {
   "cell_type": "code",
   "execution_count": 4,
   "metadata": {},
   "outputs": [
    {
     "name": "stdout",
     "output_type": "stream",
     "text": [
      "Device: cuda\n",
      "tensor([[0.3126, 0.3791, 0.3087],\n",
      "        [0.0736, 0.4216, 0.0691],\n",
      "        [0.2332, 0.4047, 0.2162],\n",
      "        [0.9927, 0.4128, 0.5938],\n",
      "        [0.6128, 0.1519, 0.0453]])\n"
     ]
    }
   ],
   "source": [
    "# Import shared setup\n",
    "from utils.setup import seed, device, early_stopper, pipeline, test_tensor\n",
    "\n",
    "# Example usage\n",
    "print(f\"Device: {device}\")\n",
    "test_tensor()"
   ]
  },
  {
   "cell_type": "code",
   "execution_count": 5,
   "metadata": {},
   "outputs": [
    {
     "name": "stdout",
     "output_type": "stream",
     "text": [
      "Evaluating motif 27 with size 12 and 58 indexes\n",
      "X_series shape: torch.Size([1173, 504, 1])\n",
      "X_indices shape: torch.Size([1173, 18, 1])\n",
      "X_mask shape: torch.Size([1173, 504])\n",
      "y shape: torch.Size([1173, 1])\n"
     ]
    },
    {
     "data": {
      "application/vnd.jupyter.widget-view+json": {
       "model_id": "c87d14ecbeb34e0cbd0f26ee336fd08b",
       "version_major": 2,
       "version_minor": 0
      },
      "text/plain": [
       "  0%|          | 0/1 [00:00<?, ?it/s]"
      ]
     },
     "metadata": {},
     "output_type": "display_data"
    },
    {
     "name": "stdout",
     "output_type": "stream",
     "text": [
      "Training completed all epochs. Best epoch was 0\n",
      "Best hyperparameters: {'learning_rate': 2.6565450821928437e-05, 'num_layers': 3, 'batch_size': 32, 'hidden_size_layer_0': 64, 'hidden_size_layer_1': 64, 'hidden_size_layer_2': 16}\n",
      "Best epoch: 0\n",
      "Test Loss: 359.17095947265625, Test MAE: 15.468602180480957, Test RMSE: 18.951807022094727\n",
      "Best hyperparameters: {'learning_rate': 2.6565450821928437e-05, 'num_layers': 3, 'batch_size': 32, 'hidden_size_layer_0': 64, 'hidden_size_layer_1': 64, 'hidden_size_layer_2': 16}\n",
      "Training completed all epochs. Best epoch was 0\n",
      "Evaluating motif 6 with size 12 and 47 indexes\n",
      "X_series shape: torch.Size([1032, 504, 1])\n",
      "X_indices shape: torch.Size([1032, 16, 1])\n",
      "X_mask shape: torch.Size([1032, 504])\n",
      "y shape: torch.Size([1032, 1])\n"
     ]
    },
    {
     "data": {
      "application/vnd.jupyter.widget-view+json": {
       "model_id": "b236f78721924496818a00753db88528",
       "version_major": 2,
       "version_minor": 0
      },
      "text/plain": [
       "  0%|          | 0/1 [00:00<?, ?it/s]"
      ]
     },
     "metadata": {},
     "output_type": "display_data"
    },
    {
     "name": "stdout",
     "output_type": "stream",
     "text": [
      "Training completed all epochs. Best epoch was 0\n",
      "Best hyperparameters: {'learning_rate': 2.6565450821928437e-05, 'num_layers': 3, 'batch_size': 32, 'hidden_size_layer_0': 64, 'hidden_size_layer_1': 64, 'hidden_size_layer_2': 16}\n",
      "Best epoch: 0\n",
      "Test Loss: 378.9913330078125, Test MAE: 15.857345581054688, Test RMSE: 19.46769905090332\n",
      "Best hyperparameters: {'learning_rate': 2.6565450821928437e-05, 'num_layers': 3, 'batch_size': 32, 'hidden_size_layer_0': 64, 'hidden_size_layer_1': 64, 'hidden_size_layer_2': 16}\n",
      "Training completed all epochs. Best epoch was 0\n",
      "Evaluating motif 24 with size 12 and 46 indexes\n",
      "X_series shape: torch.Size([1122, 504, 1])\n",
      "X_indices shape: torch.Size([1122, 16, 1])\n",
      "X_mask shape: torch.Size([1122, 504])\n",
      "y shape: torch.Size([1122, 1])\n"
     ]
    },
    {
     "data": {
      "application/vnd.jupyter.widget-view+json": {
       "model_id": "289095d2f32741f88fa3ec2e5133f192",
       "version_major": 2,
       "version_minor": 0
      },
      "text/plain": [
       "  0%|          | 0/1 [00:00<?, ?it/s]"
      ]
     },
     "metadata": {},
     "output_type": "display_data"
    },
    {
     "name": "stdout",
     "output_type": "stream",
     "text": [
      "Training completed all epochs. Best epoch was 0\n",
      "Best hyperparameters: {'learning_rate': 2.6565450821928437e-05, 'num_layers': 3, 'batch_size': 32, 'hidden_size_layer_0': 64, 'hidden_size_layer_1': 64, 'hidden_size_layer_2': 16}\n",
      "Best epoch: 0\n",
      "Test Loss: 477.03369140625, Test MAE: 18.516128540039062, Test RMSE: 21.841100692749023\n",
      "Best hyperparameters: {'learning_rate': 2.6565450821928437e-05, 'num_layers': 3, 'batch_size': 32, 'hidden_size_layer_0': 64, 'hidden_size_layer_1': 64, 'hidden_size_layer_2': 16}\n",
      "Training completed all epochs. Best epoch was 0\n",
      "Evaluating motif 12 with size 12 and 44 indexes\n",
      "X_series shape: torch.Size([1050, 504, 1])\n",
      "X_indices shape: torch.Size([1050, 15, 1])\n",
      "X_mask shape: torch.Size([1050, 504])\n",
      "y shape: torch.Size([1050, 1])\n"
     ]
    },
    {
     "data": {
      "application/vnd.jupyter.widget-view+json": {
       "model_id": "fae3a05fe52442be919a1527ac2dc16c",
       "version_major": 2,
       "version_minor": 0
      },
      "text/plain": [
       "  0%|          | 0/1 [00:00<?, ?it/s]"
      ]
     },
     "metadata": {},
     "output_type": "display_data"
    },
    {
     "name": "stdout",
     "output_type": "stream",
     "text": [
      "Training completed all epochs. Best epoch was 0\n",
      "Best hyperparameters: {'learning_rate': 2.6565450821928437e-05, 'num_layers': 3, 'batch_size': 32, 'hidden_size_layer_0': 64, 'hidden_size_layer_1': 64, 'hidden_size_layer_2': 16}\n",
      "Best epoch: 0\n",
      "Test Loss: 531.3179321289062, Test MAE: 19.097576141357422, Test RMSE: 23.050334930419922\n",
      "Best hyperparameters: {'learning_rate': 2.6565450821928437e-05, 'num_layers': 3, 'batch_size': 32, 'hidden_size_layer_0': 64, 'hidden_size_layer_1': 64, 'hidden_size_layer_2': 16}\n",
      "Training completed all epochs. Best epoch was 0\n",
      "Evaluating motif 7 with size 12 and 38 indexes\n",
      "X_series shape: torch.Size([979, 504, 1])\n",
      "X_indices shape: torch.Size([979, 12, 1])\n",
      "X_mask shape: torch.Size([979, 504])\n",
      "y shape: torch.Size([979, 1])\n"
     ]
    },
    {
     "data": {
      "application/vnd.jupyter.widget-view+json": {
       "model_id": "3c416914c81640c6b6a12d3f23ed9cb3",
       "version_major": 2,
       "version_minor": 0
      },
      "text/plain": [
       "  0%|          | 0/1 [00:00<?, ?it/s]"
      ]
     },
     "metadata": {},
     "output_type": "display_data"
    },
    {
     "name": "stdout",
     "output_type": "stream",
     "text": [
      "Training completed all epochs. Best epoch was 0\n",
      "Best hyperparameters: {'learning_rate': 2.6565450821928437e-05, 'num_layers': 3, 'batch_size': 32, 'hidden_size_layer_0': 64, 'hidden_size_layer_1': 64, 'hidden_size_layer_2': 16}\n",
      "Best epoch: 0\n",
      "Test Loss: 583.5614013671875, Test MAE: 20.03963851928711, Test RMSE: 24.157014846801758\n",
      "Best hyperparameters: {'learning_rate': 2.6565450821928437e-05, 'num_layers': 3, 'batch_size': 32, 'hidden_size_layer_0': 64, 'hidden_size_layer_1': 64, 'hidden_size_layer_2': 16}\n",
      "Training completed all epochs. Best epoch was 0\n",
      "Aggregated Results Across Top 5 Motifs:\n",
      "Mean Test Loss: 466.0150634765625 ± 86.24593740260501\n",
      "Mean Test MAE: 17.79585819244385 ± 1.8122781705361783\n",
      "Mean Test RMSE: 21.49359130859375 ± 2.010121649001188\n"
     ]
    }
   ],
   "source": [
    "from utils.utils import create_dataset\n",
    "from utils.train_pipeline import run_optuna_study\n",
    "from utils.utils import get_best_model_results_traindevtest, plot_best_model_results_traindevtest\n",
    "from models.ffnn_pytorch import FFNN\n",
    "from utils.utils import plot_preds_vs_truevalues\n",
    "from utils.train_pipeline import get_preds_best_config_train_val_test\n",
    "\n",
    "lookback_period = 24*7*3 #window size\n",
    "step = 1 #step size for the sliding window\n",
    "forecast_period = 24*2 #forward window size\n",
    "test_losses_list = []\n",
    "test_mae_list = []\n",
    "test_rmse_list = []\n",
    "\n",
    "# Loop through each of the top 10 motifs\n",
    "for i, top_motif in top_motifs.iterrows():\n",
    "\n",
    "    motif_indexes = sorted(ast.literal_eval(top_motif[\"Indices\"]))\n",
    "    \n",
    "    print(f\"Evaluating motif {i+1} with size {MOTIF_SIZE} and {len(motif_indexes)} indexes\")\n",
    "    \n",
    "    # Create dataset for the current motif\n",
    "    X_series, X_indices, X_mask, y = create_dataset(data, lookback_period, step, forecast_period, motif_indexes, MOTIF_SIZE)\n",
    "\n",
    "    # X_series, X2, and y are now PyTorch tensors\n",
    "    print(\"X_series shape:\", X_series.shape)  # Expected shape: (num_samples, lookback_period, num_features)\n",
    "    print(\"X_indices shape:\", X_indices.shape)  # Expected shape: (num_samples, max_motif_length_in_window, 1)\n",
    "    print(\"X_mask shape:\", X_mask.shape)  # Expected shape: (num_samples, max_motif_length_in_window)\n",
    "    print(\"y shape:\", y.shape)    # Expected shape: (num_samples, 1)\n",
    "    \n",
    "    # Define the model and run the Optuna study\n",
    "    n_trials = 100\n",
    "    num_epochs = 500\n",
    "    model_type = \"FFNN\"\n",
    "    model_name = \"FFNNSeries\"\n",
    "\n",
    "    suggestion_dict = {\n",
    "        \"learning_rate\": {\n",
    "            \"type\": \"float\",\n",
    "            \"args\": [1e-5, 1e-3], \n",
    "            \"kwargs\": {\"log\": True} \n",
    "        },\n",
    "        \"num_layers\": {\n",
    "            \"type\": \"categorical\",\n",
    "            \"args\": [[1, 2, 3, 4]] \n",
    "        },        \n",
    "        \"batch_size\": {\n",
    "            \"type\": \"categorical\",\n",
    "            \"args\": [[4, 8, 16, 32]]\n",
    "        }\n",
    "    }\n",
    "\n",
    "    model_params_keys = [\"hidden_sizes_list\"]\n",
    "    model_results_dir = os.path.join(RESULTS_DIR, f\"{model_name}_{n_trials}_trials_{num_epochs}_epochs_motif_{i+1}\")\n",
    "    os.makedirs(model_results_dir, exist_ok=True)  \n",
    "\n",
    "    X = {\"X_series\": X_series}\n",
    "    run_optuna_study(pipeline.run_train_val_test, eval(model_type), model_type, suggestion_dict, model_params_keys, seed, X, y, NORMALIZE_FLAGS, model_results_dir, n_trials=n_trials, num_epochs=num_epochs)\n",
    "\n",
    "    study = joblib.load(os.path.join(model_results_dir, \"study.pkl\"))\n",
    "    train_losses, val_losses, best_epoch, test_loss, test_mae, test_rmse = get_best_model_results_traindevtest(study)\n",
    "\n",
    "    print(f\"Best epoch: {best_epoch}\")\n",
    "    print(f\"Test Loss: {test_loss}, Test MAE: {test_mae}, Test RMSE: {test_rmse}\")\n",
    "\n",
    "    test_losses_list.append(test_loss)\n",
    "    test_mae_list.append(test_mae)\n",
    "    test_rmse_list.append(test_rmse)\n",
    "    \n",
    "    epochs_train_losses, epochs_val_losses, val_losses, test_losses, test_mae, test_rmse, all_predictions, all_true_values = get_preds_best_config_train_val_test(study, pipeline, eval(model_type), model_type, model_params_keys, num_epochs=num_epochs, seed=seed, X=X, y=y, normalize_flags=NORMALIZE_FLAGS)\n",
    "    #plot_best_model_results_traindevtest( study.trials_dataframe(),\n",
    "    #    save_path=os.path.join(IMAGES_DIR, f\"{model_name}_{n_trials}_trials_{num_epochs}_epochs_motif_{i+1}_best_results.png\")\n",
    "    #)    \n",
    "    #plot_preds_vs_truevalues(np.ravel(all_true_values), np.ravel(all_predictions), fold=0, save_path=os.path.join(IMAGES_DIR, f\"{model_name}_{n_trials}_trials_{num_epochs}_epochs_motif_{i+1}_fold_{0}_predictions.png\"))\n",
    "\n",
    "\n",
    "# Convert lists to numpy arrays for easier calculations\n",
    "test_losses_array = np.array(test_losses_list)\n",
    "test_mae_array = np.array(test_mae_list)\n",
    "test_rmse_array = np.array(test_rmse_list)\n",
    "\n",
    "# Calculate mean and standard deviation\n",
    "mean_test_loss = np.mean(test_losses_array)\n",
    "std_test_loss = np.std(test_losses_array)\n",
    "\n",
    "mean_test_mae = np.mean(test_mae_array)\n",
    "std_test_mae = np.std(test_mae_array)\n",
    "\n",
    "mean_test_rmse = np.mean(test_rmse_array)\n",
    "std_test_rmse = np.std(test_rmse_array)\n",
    "\n",
    "# Print aggregated results\n",
    "print(f\"Aggregated Results Across Top 5 Motifs:\")\n",
    "print(f\"Mean Test Loss: {mean_test_loss} ± {std_test_loss}\")\n",
    "print(f\"Mean Test MAE: {mean_test_mae} ± {std_test_mae}\")\n",
    "print(f\"Mean Test RMSE: {mean_test_rmse} ± {std_test_rmse}\")\n"
   ]
  },
  {
   "cell_type": "code",
   "execution_count": 6,
   "metadata": {},
   "outputs": [
    {
     "name": "stdout",
     "output_type": "stream",
     "text": [
      "Evaluating motif 27 with size 12 and 58 indexes\n",
      "X_series shape: torch.Size([1173, 504, 1])\n",
      "X_indices shape: torch.Size([1173, 18, 1])\n",
      "X_mask shape: torch.Size([1173, 504])\n",
      "y shape: torch.Size([1173, 1])\n"
     ]
    },
    {
     "data": {
      "application/vnd.jupyter.widget-view+json": {
       "model_id": "e8ca9279db834d0aa0a9e8a9cf7f4b38",
       "version_major": 2,
       "version_minor": 0
      },
      "text/plain": [
       "  0%|          | 0/1 [00:00<?, ?it/s]"
      ]
     },
     "metadata": {},
     "output_type": "display_data"
    },
    {
     "name": "stdout",
     "output_type": "stream",
     "text": [
      "Training completed all epochs. Best epoch was 0\n",
      "Best hyperparameters: {'learning_rate': 2.6565450821928437e-05, 'num_layers': 3, 'batch_size': 32, 'hidden_size_layer_0': 64, 'hidden_size_layer_1': 64, 'hidden_size_layer_2': 16}\n",
      "Best epoch: 0\n",
      "Test Loss: 358.5529479980469, Test MAE: 15.445839881896973, Test RMSE: 18.93549346923828\n",
      "Best hyperparameters: {'learning_rate': 2.6565450821928437e-05, 'num_layers': 3, 'batch_size': 32, 'hidden_size_layer_0': 64, 'hidden_size_layer_1': 64, 'hidden_size_layer_2': 16}\n",
      "Training completed all epochs. Best epoch was 0\n",
      "Evaluating motif 6 with size 12 and 47 indexes\n",
      "X_series shape: torch.Size([1032, 504, 1])\n",
      "X_indices shape: torch.Size([1032, 16, 1])\n",
      "X_mask shape: torch.Size([1032, 504])\n",
      "y shape: torch.Size([1032, 1])\n"
     ]
    },
    {
     "data": {
      "application/vnd.jupyter.widget-view+json": {
       "model_id": "608fd48ceb834df2b4e67c3b1794c961",
       "version_major": 2,
       "version_minor": 0
      },
      "text/plain": [
       "  0%|          | 0/1 [00:00<?, ?it/s]"
      ]
     },
     "metadata": {},
     "output_type": "display_data"
    },
    {
     "name": "stdout",
     "output_type": "stream",
     "text": [
      "Training completed all epochs. Best epoch was 0\n",
      "Best hyperparameters: {'learning_rate': 2.6565450821928437e-05, 'num_layers': 3, 'batch_size': 32, 'hidden_size_layer_0': 64, 'hidden_size_layer_1': 64, 'hidden_size_layer_2': 16}\n",
      "Best epoch: 0\n",
      "Test Loss: 378.52447509765625, Test MAE: 15.843049049377441, Test RMSE: 19.455705642700195\n",
      "Best hyperparameters: {'learning_rate': 2.6565450821928437e-05, 'num_layers': 3, 'batch_size': 32, 'hidden_size_layer_0': 64, 'hidden_size_layer_1': 64, 'hidden_size_layer_2': 16}\n",
      "Training completed all epochs. Best epoch was 0\n",
      "Evaluating motif 24 with size 12 and 46 indexes\n",
      "X_series shape: torch.Size([1122, 504, 1])\n",
      "X_indices shape: torch.Size([1122, 16, 1])\n",
      "X_mask shape: torch.Size([1122, 504])\n",
      "y shape: torch.Size([1122, 1])\n"
     ]
    },
    {
     "data": {
      "application/vnd.jupyter.widget-view+json": {
       "model_id": "ecb24cbe718d47f3a72fa4daa43fe668",
       "version_major": 2,
       "version_minor": 0
      },
      "text/plain": [
       "  0%|          | 0/1 [00:00<?, ?it/s]"
      ]
     },
     "metadata": {},
     "output_type": "display_data"
    },
    {
     "name": "stdout",
     "output_type": "stream",
     "text": [
      "Training completed all epochs. Best epoch was 0\n",
      "Best hyperparameters: {'learning_rate': 2.6565450821928437e-05, 'num_layers': 3, 'batch_size': 32, 'hidden_size_layer_0': 64, 'hidden_size_layer_1': 64, 'hidden_size_layer_2': 16}\n",
      "Best epoch: 0\n",
      "Test Loss: 476.3528137207031, Test MAE: 18.49933433532715, Test RMSE: 21.82550811767578\n",
      "Best hyperparameters: {'learning_rate': 2.6565450821928437e-05, 'num_layers': 3, 'batch_size': 32, 'hidden_size_layer_0': 64, 'hidden_size_layer_1': 64, 'hidden_size_layer_2': 16}\n",
      "Training completed all epochs. Best epoch was 0\n",
      "Evaluating motif 12 with size 12 and 44 indexes\n",
      "X_series shape: torch.Size([1050, 504, 1])\n",
      "X_indices shape: torch.Size([1050, 15, 1])\n",
      "X_mask shape: torch.Size([1050, 504])\n",
      "y shape: torch.Size([1050, 1])\n"
     ]
    },
    {
     "data": {
      "application/vnd.jupyter.widget-view+json": {
       "model_id": "718892ee00474361b8af3735f8905d84",
       "version_major": 2,
       "version_minor": 0
      },
      "text/plain": [
       "  0%|          | 0/1 [00:00<?, ?it/s]"
      ]
     },
     "metadata": {},
     "output_type": "display_data"
    },
    {
     "name": "stdout",
     "output_type": "stream",
     "text": [
      "Training completed all epochs. Best epoch was 0\n",
      "Best hyperparameters: {'learning_rate': 2.6565450821928437e-05, 'num_layers': 3, 'batch_size': 32, 'hidden_size_layer_0': 64, 'hidden_size_layer_1': 64, 'hidden_size_layer_2': 16}\n",
      "Best epoch: 0\n",
      "Test Loss: 530.8046264648438, Test MAE: 19.084659576416016, Test RMSE: 23.03919792175293\n",
      "Best hyperparameters: {'learning_rate': 2.6565450821928437e-05, 'num_layers': 3, 'batch_size': 32, 'hidden_size_layer_0': 64, 'hidden_size_layer_1': 64, 'hidden_size_layer_2': 16}\n",
      "Training completed all epochs. Best epoch was 0\n",
      "Evaluating motif 7 with size 12 and 38 indexes\n",
      "X_series shape: torch.Size([979, 504, 1])\n",
      "X_indices shape: torch.Size([979, 12, 1])\n",
      "X_mask shape: torch.Size([979, 504])\n",
      "y shape: torch.Size([979, 1])\n"
     ]
    },
    {
     "data": {
      "application/vnd.jupyter.widget-view+json": {
       "model_id": "ca9404a1875e4c5d91cb42a02c967eb0",
       "version_major": 2,
       "version_minor": 0
      },
      "text/plain": [
       "  0%|          | 0/1 [00:00<?, ?it/s]"
      ]
     },
     "metadata": {},
     "output_type": "display_data"
    },
    {
     "name": "stdout",
     "output_type": "stream",
     "text": [
      "Training completed all epochs. Best epoch was 0\n",
      "Best hyperparameters: {'learning_rate': 2.6565450821928437e-05, 'num_layers': 3, 'batch_size': 32, 'hidden_size_layer_0': 64, 'hidden_size_layer_1': 64, 'hidden_size_layer_2': 16}\n",
      "Best epoch: 0\n",
      "Test Loss: 583.0713500976562, Test MAE: 20.02541732788086, Test RMSE: 24.146869659423828\n",
      "Best hyperparameters: {'learning_rate': 2.6565450821928437e-05, 'num_layers': 3, 'batch_size': 32, 'hidden_size_layer_0': 64, 'hidden_size_layer_1': 64, 'hidden_size_layer_2': 16}\n",
      "Training completed all epochs. Best epoch was 0\n",
      "Aggregated Results Across Top 5 Motifs:\n",
      "Mean Test Loss: 465.46124267578125 ± 86.26460052704178\n",
      "Mean Test MAE: 17.779660034179688 ± 1.8144728896756086\n",
      "Mean Test RMSE: 21.4805549621582 ± 2.0117130704503445\n"
     ]
    }
   ],
   "source": [
    "from utils.utils import create_dataset\n",
    "from utils.train_pipeline import run_optuna_study\n",
    "from utils.utils import get_best_model_results_traindevtest, plot_best_model_results_traindevtest\n",
    "from models.ffnn_pytorch import FFNN\n",
    "from utils.utils import plot_preds_vs_truevalues\n",
    "from utils.train_pipeline import get_preds_best_config_train_val_test\n",
    "\n",
    "lookback_period = 24*7*3 #window size\n",
    "step = 1 #step size for the sliding window\n",
    "forecast_period = 24*2 #forward window size\n",
    "test_losses_list = []\n",
    "test_mae_list = []\n",
    "test_rmse_list = []\n",
    "\n",
    "# Loop through each of the top 10 motifs\n",
    "for i, top_motif in top_motifs.iterrows():\n",
    "\n",
    "    motif_indexes = sorted(ast.literal_eval(top_motif[\"Indices\"]))\n",
    "    \n",
    "    print(f\"Evaluating motif {i+1} with size {MOTIF_SIZE} and {len(motif_indexes)} indexes\")\n",
    "    \n",
    "    # Create dataset for the current motif\n",
    "    X_series, X_indices, X_mask, y = create_dataset(data, lookback_period, step, forecast_period, motif_indexes, MOTIF_SIZE)\n",
    "\n",
    "    # X_series, X2, and y are now PyTorch tensors\n",
    "    print(\"X_series shape:\", X_series.shape)  # Expected shape: (num_samples, lookback_period, num_features)\n",
    "    print(\"X_indices shape:\", X_indices.shape)  # Expected shape: (num_samples, max_motif_length_in_window, 1)\n",
    "    print(\"X_mask shape:\", X_mask.shape)  # Expected shape: (num_samples, max_motif_length_in_window)\n",
    "    print(\"y shape:\", y.shape)    # Expected shape: (num_samples, 1)\n",
    "    \n",
    "    # Define the model and run the Optuna study\n",
    "    n_trials = 100\n",
    "    num_epochs = 500\n",
    "    model_type = \"FFNN\"\n",
    "    model_name = \"FFNNSeries_Masking\"\n",
    "\n",
    "    suggestion_dict = {\n",
    "        \"learning_rate\": {\n",
    "            \"type\": \"float\",\n",
    "            \"args\": [1e-5, 1e-3], \n",
    "            \"kwargs\": {\"log\": True} \n",
    "        },\n",
    "        \"num_layers\": {\n",
    "            \"type\": \"categorical\",\n",
    "            \"args\": [[1, 2, 3, 4]] \n",
    "        },        \n",
    "        \"batch_size\": {\n",
    "            \"type\": \"categorical\",\n",
    "            \"args\": [[4, 8, 16, 32]]\n",
    "        }\n",
    "    }\n",
    "\n",
    "    model_params_keys = [\"hidden_sizes_list\"]\n",
    "    model_results_dir = os.path.join(RESULTS_DIR, f\"{model_name}_{n_trials}_trials_{num_epochs}_epochs_motif_{i+1}\")\n",
    "    os.makedirs(model_results_dir, exist_ok=True)  \n",
    "\n",
    "    X = {\"X_series\": X_series, \"X_mask\": X_mask}\n",
    "    run_optuna_study(pipeline.run_train_val_test, eval(model_type), model_type, suggestion_dict, model_params_keys, seed, X, y, NORMALIZE_FLAGS, model_results_dir, n_trials=n_trials, num_epochs=num_epochs)\n",
    "\n",
    "    study = joblib.load(os.path.join(model_results_dir, \"study.pkl\"))\n",
    "    train_losses, val_losses, best_epoch, test_loss, test_mae, test_rmse = get_best_model_results_traindevtest(study)\n",
    "\n",
    "    print(f\"Best epoch: {best_epoch}\")\n",
    "    print(f\"Test Loss: {test_loss}, Test MAE: {test_mae}, Test RMSE: {test_rmse}\")\n",
    "\n",
    "    test_losses_list.append(test_loss)\n",
    "    test_mae_list.append(test_mae)\n",
    "    test_rmse_list.append(test_rmse)\n",
    "    \n",
    "    epochs_train_losses, epochs_val_losses, val_losses, test_losses, test_mae, test_rmse, all_predictions, all_true_values = get_preds_best_config_train_val_test(study, pipeline, eval(model_type), model_type, model_params_keys, num_epochs=num_epochs, seed=seed, X=X, y=y, normalize_flags=NORMALIZE_FLAGS)\n",
    "    #plot_best_model_results_traindevtest( study.trials_dataframe(),\n",
    "    #    save_path=os.path.join(IMAGES_DIR, f\"{model_name}_{n_trials}_trials_{num_epochs}_epochs_motif_{i+1}_best_results.png\")\n",
    "    #)    \n",
    "    #plot_preds_vs_truevalues(np.ravel(all_true_values), np.ravel(all_predictions), fold=0, save_path=os.path.join(IMAGES_DIR, f\"{model_name}_{n_trials}_trials_{num_epochs}_epochs_motif_{i+1}_fold_{0}_predictions.png\"))\n",
    "\n",
    "\n",
    "# Convert lists to numpy arrays for easier calculations\n",
    "test_losses_array = np.array(test_losses_list)\n",
    "test_mae_array = np.array(test_mae_list)\n",
    "test_rmse_array = np.array(test_rmse_list)\n",
    "\n",
    "# Calculate mean and standard deviation\n",
    "mean_test_loss = np.mean(test_losses_array)\n",
    "std_test_loss = np.std(test_losses_array)\n",
    "\n",
    "mean_test_mae = np.mean(test_mae_array)\n",
    "std_test_mae = np.std(test_mae_array)\n",
    "\n",
    "mean_test_rmse = np.mean(test_rmse_array)\n",
    "std_test_rmse = np.std(test_rmse_array)\n",
    "\n",
    "# Print aggregated results\n",
    "print(f\"Aggregated Results Across Top 5 Motifs:\")\n",
    "print(f\"Mean Test Loss: {mean_test_loss} ± {std_test_loss}\")\n",
    "print(f\"Mean Test MAE: {mean_test_mae} ± {std_test_mae}\")\n",
    "print(f\"Mean Test RMSE: {mean_test_rmse} ± {std_test_rmse}\")\n"
   ]
  }
 ],
 "metadata": {
  "kernelspec": {
   "display_name": "torch_motifpredenv",
   "language": "python",
   "name": "python3"
  },
  "language_info": {
   "codemirror_mode": {
    "name": "ipython",
    "version": 3
   },
   "file_extension": ".py",
   "mimetype": "text/x-python",
   "name": "python",
   "nbconvert_exporter": "python",
   "pygments_lexer": "ipython3",
   "version": "3.12.2"
  }
 },
 "nbformat": 4,
 "nbformat_minor": 2
}
