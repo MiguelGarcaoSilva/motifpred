{
 "cells": [
  {
   "cell_type": "code",
   "execution_count": 1,
   "metadata": {},
   "outputs": [
    {
     "name": "stderr",
     "output_type": "stream",
     "text": [
      "2025-01-21 13:35:19,469 - INFO - Results will be saved in: /home/mgsilva/motifpred/results/populationdensity\n",
      "2025-01-21 13:35:19,469 - INFO - Images will be saved in: /home/mgsilva/motifpred/images/populationdensity\n",
      "2025-01-21 13:35:19,469 - INFO - Data will be accessed from: /home/mgsilva/motifpred/data/populationdensity\n"
     ]
    },
    {
     "name": "stdout",
     "output_type": "stream",
     "text": [
      "Results will be saved in: /home/mgsilva/motifpred/results/populationdensity\n",
      "Images will be saved in: /home/mgsilva/motifpred/images/populationdensity\n",
      "Data will be accessed from: /home/mgsilva/motifpred/data/populationdensity\n"
     ]
    }
   ],
   "source": [
    "import numpy as np\n",
    "import pandas as pd\n",
    "import os\n",
    "import sys\n",
    "import csv\n",
    "import matplotlib.pyplot as plt\n",
    "import matplotlib.dates as mdates\n",
    "import matplotlib.image as mpimg\n",
    "import optuna\n",
    "import random\n",
    "import joblib\n",
    "import math\n",
    "import ast\n",
    "import logging\n",
    "from msig import Motif, NullModel\n",
    "from config import RESULTS_MOTIF_DIR, RESULTS_DIR, IMAGES_DIR, DATA_DIR, DATASET_PATH, TOWNSHIP_NAME, VARIABLES, NORMALIZE_FLAGS, STUMPY_EXCL_ZONE_DENOM, TOP_K_MP, INCLUDE, NORMALIZE, SUBSQUENCES_LENGTHS\n",
    "\n",
    "print(f\"Results will be saved in: {RESULTS_DIR}\")\n",
    "print(f\"Images will be saved in: {IMAGES_DIR}\")\n",
    "print(f\"Data will be accessed from: {DATA_DIR}\")\n",
    "\n",
    "\n",
    "if '__file__' in globals():\n",
    "    # For standalone scripts\n",
    "    base_dir = os.path.dirname(__file__)\n",
    "else:\n",
    "    # For Jupyter or interactive environments\n",
    "    base_dir = os.getcwd()\n",
    "\n",
    "# Add the parent directory of `utils` to the Python path\n",
    "sys.path.append(os.path.abspath(os.path.join(base_dir, \"../\")))"
   ]
  },
  {
   "cell_type": "code",
   "execution_count": 2,
   "metadata": {},
   "outputs": [],
   "source": [
    "\n",
    "mp_stats_table = pd.read_csv(\n",
    "    RESULTS_DIR / f\"mp_stats_table_normalized_{NORMALIZE}_top_{TOP_K_MP}.csv\"\n",
    ")\n",
    "mp_stats_table = mp_stats_table[[\"Features\",\"m\", \"Indices\"]]\n",
    "motifs_sizes = mp_stats_table[[\"m\"]].values.flatten().astype(int)\n",
    "motifs_indexes = mp_stats_table[[\"Indices\"]].values\n",
    "motifs_indexes = [ast.literal_eval(item[0]) for item in motifs_indexes]\n"
   ]
  },
  {
   "cell_type": "code",
   "execution_count": 3,
   "metadata": {},
   "outputs": [
    {
     "data": {
      "text/html": [
       "<div>\n",
       "<style scoped>\n",
       "    .dataframe tbody tr th:only-of-type {\n",
       "        vertical-align: middle;\n",
       "    }\n",
       "\n",
       "    .dataframe tbody tr th {\n",
       "        vertical-align: top;\n",
       "    }\n",
       "\n",
       "    .dataframe thead th {\n",
       "        text-align: right;\n",
       "    }\n",
       "</style>\n",
       "<table border=\"1\" class=\"dataframe\">\n",
       "  <thead>\n",
       "    <tr style=\"text-align: right;\">\n",
       "      <th></th>\n",
       "      <th></th>\n",
       "      <th>sum_terminals</th>\n",
       "      <th>sum_roaming_terminals</th>\n",
       "      <th>sum_phonecalls</th>\n",
       "    </tr>\n",
       "    <tr>\n",
       "      <th>one_time</th>\n",
       "      <th>township_name</th>\n",
       "      <th></th>\n",
       "      <th></th>\n",
       "      <th></th>\n",
       "    </tr>\n",
       "  </thead>\n",
       "  <tbody>\n",
       "    <tr>\n",
       "      <th>2021-09-15 00:00:00</th>\n",
       "      <th>Avenidas Novas</th>\n",
       "      <td>260700.0</td>\n",
       "      <td>17678.0</td>\n",
       "      <td>2262.0</td>\n",
       "    </tr>\n",
       "    <tr>\n",
       "      <th>2021-09-15 01:00:00</th>\n",
       "      <th>Avenidas Novas</th>\n",
       "      <td>276675.0</td>\n",
       "      <td>17533.0</td>\n",
       "      <td>994.0</td>\n",
       "    </tr>\n",
       "    <tr>\n",
       "      <th>2021-09-15 02:00:00</th>\n",
       "      <th>Avenidas Novas</th>\n",
       "      <td>284563.0</td>\n",
       "      <td>15280.0</td>\n",
       "      <td>725.0</td>\n",
       "    </tr>\n",
       "    <tr>\n",
       "      <th>2021-09-15 03:00:00</th>\n",
       "      <th>Avenidas Novas</th>\n",
       "      <td>279563.0</td>\n",
       "      <td>12424.0</td>\n",
       "      <td>393.0</td>\n",
       "    </tr>\n",
       "    <tr>\n",
       "      <th>2021-09-15 04:00:00</th>\n",
       "      <th>Avenidas Novas</th>\n",
       "      <td>281460.0</td>\n",
       "      <td>10789.0</td>\n",
       "      <td>290.0</td>\n",
       "    </tr>\n",
       "    <tr>\n",
       "      <th>...</th>\n",
       "      <th>...</th>\n",
       "      <td>...</td>\n",
       "      <td>...</td>\n",
       "      <td>...</td>\n",
       "    </tr>\n",
       "    <tr>\n",
       "      <th>2021-11-30 19:00:00</th>\n",
       "      <th>Avenidas Novas</th>\n",
       "      <td>391367.0</td>\n",
       "      <td>12886.0</td>\n",
       "      <td>17569.0</td>\n",
       "    </tr>\n",
       "    <tr>\n",
       "      <th>2021-11-30 20:00:00</th>\n",
       "      <th>Avenidas Novas</th>\n",
       "      <td>352361.0</td>\n",
       "      <td>11026.0</td>\n",
       "      <td>13738.0</td>\n",
       "    </tr>\n",
       "    <tr>\n",
       "      <th>2021-11-30 21:00:00</th>\n",
       "      <th>Avenidas Novas</th>\n",
       "      <td>388246.0</td>\n",
       "      <td>13957.0</td>\n",
       "      <td>16368.0</td>\n",
       "    </tr>\n",
       "    <tr>\n",
       "      <th>2021-11-30 22:00:00</th>\n",
       "      <th>Avenidas Novas</th>\n",
       "      <td>360169.0</td>\n",
       "      <td>13943.0</td>\n",
       "      <td>8635.0</td>\n",
       "    </tr>\n",
       "    <tr>\n",
       "      <th>2021-11-30 23:00:00</th>\n",
       "      <th>Avenidas Novas</th>\n",
       "      <td>349164.0</td>\n",
       "      <td>14039.0</td>\n",
       "      <td>7176.0</td>\n",
       "    </tr>\n",
       "  </tbody>\n",
       "</table>\n",
       "<p>1848 rows × 3 columns</p>\n",
       "</div>"
      ],
      "text/plain": [
       "                                    sum_terminals  sum_roaming_terminals  \\\n",
       "one_time            township_name                                          \n",
       "2021-09-15 00:00:00 Avenidas Novas       260700.0                17678.0   \n",
       "2021-09-15 01:00:00 Avenidas Novas       276675.0                17533.0   \n",
       "2021-09-15 02:00:00 Avenidas Novas       284563.0                15280.0   \n",
       "2021-09-15 03:00:00 Avenidas Novas       279563.0                12424.0   \n",
       "2021-09-15 04:00:00 Avenidas Novas       281460.0                10789.0   \n",
       "...                                           ...                    ...   \n",
       "2021-11-30 19:00:00 Avenidas Novas       391367.0                12886.0   \n",
       "2021-11-30 20:00:00 Avenidas Novas       352361.0                11026.0   \n",
       "2021-11-30 21:00:00 Avenidas Novas       388246.0                13957.0   \n",
       "2021-11-30 22:00:00 Avenidas Novas       360169.0                13943.0   \n",
       "2021-11-30 23:00:00 Avenidas Novas       349164.0                14039.0   \n",
       "\n",
       "                                    sum_phonecalls  \n",
       "one_time            township_name                   \n",
       "2021-09-15 00:00:00 Avenidas Novas          2262.0  \n",
       "2021-09-15 01:00:00 Avenidas Novas           994.0  \n",
       "2021-09-15 02:00:00 Avenidas Novas           725.0  \n",
       "2021-09-15 03:00:00 Avenidas Novas           393.0  \n",
       "2021-09-15 04:00:00 Avenidas Novas           290.0  \n",
       "...                                            ...  \n",
       "2021-11-30 19:00:00 Avenidas Novas         17569.0  \n",
       "2021-11-30 20:00:00 Avenidas Novas         13738.0  \n",
       "2021-11-30 21:00:00 Avenidas Novas         16368.0  \n",
       "2021-11-30 22:00:00 Avenidas Novas          8635.0  \n",
       "2021-11-30 23:00:00 Avenidas Novas          7176.0  \n",
       "\n",
       "[1848 rows x 3 columns]"
      ]
     },
     "execution_count": 3,
     "metadata": {},
     "output_type": "execute_result"
    }
   ],
   "source": [
    "# read csv\n",
    "data_df = pd.read_csv(\n",
    "    DATASET_PATH,\n",
    "    parse_dates=[\"one_time\"],\n",
    "    date_format=\"%Y-%m-%d %H:%M:%S\",\n",
    "    index_col=0,\n",
    ")\n",
    "\n",
    "data_df = data_df[data_df[\"township_name\"] == TOWNSHIP_NAME]\n",
    "#set index to one_time and township_name\n",
    "data_df = data_df.set_index([\"one_time\", \"township_name\"]).sort_index()[VARIABLES]\n",
    "data = data_df.to_numpy().T\n",
    "data_df"
   ]
  },
  {
   "cell_type": "code",
   "execution_count": 4,
   "metadata": {},
   "outputs": [
    {
     "name": "stdout",
     "output_type": "stream",
     "text": [
      "Device: cuda\n",
      "tensor([[0.3126, 0.3791, 0.3087],\n",
      "        [0.0736, 0.4216, 0.0691],\n",
      "        [0.2332, 0.4047, 0.2162],\n",
      "        [0.9927, 0.4128, 0.5938],\n",
      "        [0.6128, 0.1519, 0.0453]])\n"
     ]
    }
   ],
   "source": [
    "# Import shared setup\n",
    "from utils.setup import seed, device, early_stopper, pipeline, test_tensor\n",
    "\n",
    "# Example usage\n",
    "print(f\"Device: {device}\")\n",
    "test_tensor()"
   ]
  },
  {
   "cell_type": "code",
   "execution_count": 5,
   "metadata": {},
   "outputs": [
    {
     "name": "stdout",
     "output_type": "stream",
     "text": [
      "TRAIN: [  0   1   2   3   4   5   6   7   8   9  10  11  12  13  14  15  16  17\n",
      "  18  19  20  21  22  23  24  25  26  27  28  29  30  31  32  33  34  35\n",
      "  36  37  38  39  40  41  42  43  44  45  46  47  48  49  50  51  52  53\n",
      "  54  55  56  57  58  59  60  61  62  63  64  65  66  67  68  69  70  71\n",
      "  72  73  74  75  76  77  78  79  80  81  82  83  84  85  86  87  88  89\n",
      "  90  91  92  93  94  95  96  97  98  99 100 101 102 103 104 105 106 107\n",
      " 108 109 110 111 112 113 114 115 116 117 118 119 120 121 122 123 124 125\n",
      " 126 127 128 129 130 131 132 133 134 135 136 137 138 139 140 141 142 143\n",
      " 144 145 146 147 148 149 150 151 152 153 154 155 156 157 158 159 160 161\n",
      " 162 163 164 165 166 167 168 169 170 171 172 173 174 175 176 177 178 179\n",
      " 180 181 182 183 184 185 186 187 188 189 190 191 192 193 194 195 196 197\n",
      " 198 199 200 201 202 203 204 205 206 207 208 209 210 211 212 213 214 215\n",
      " 216 217 218 219 220 221 222 223 224 225 226 227 228 229 230 231 232 233\n",
      " 234 235 236 237 238 239 240 241 242 243 244 245 246 247 248 249 250 251\n",
      " 252 253 254 255 256 257 258 259 260 261 262 263 264 265 266 267 268 269\n",
      " 270 271 272 273 274 275 276 277 278 279 280 281 282 283 284 285 286 287\n",
      " 288 289 290 291 292 293 294] TEST: [295 296 297 298 299 300 301 302 303 304 305 306 307 308 309 310 311 312\n",
      " 313 314 315 316 317 318 319 320 321 322 323 324 325 326 327 328 329 330\n",
      " 331 332 333 334 335 336 337 338 339 340 341 342 343 344 345 346 347 348\n",
      " 349 350 351 352 353 354 355 356 357 358 359 360 361 362 363 364 365 366\n",
      " 367 368]\n",
      "TRAIN: [369 370 371 372 373 374 375 376 377 378 379 380 381 382 383 384 385 386\n",
      " 387 388 389 390 391 392 393 394 395 396 397 398 399 400 401 402 403 404\n",
      " 405 406 407 408 409 410 411 412 413 414 415 416 417 418 419 420 421 422\n",
      " 423 424 425 426 427 428 429 430 431 432 433 434 435 436 437 438 439 440\n",
      " 441 442 443 444 445 446 447 448 449 450 451 452 453 454 455 456 457 458\n",
      " 459 460 461 462 463 464 465 466 467 468 469 470 471 472 473 474 475 476\n",
      " 477 478 479 480 481 482 483 484 485 486 487 488 489 490 491 492 493 494\n",
      " 495 496 497 498 499 500 501 502 503 504 505 506 507 508 509 510 511 512\n",
      " 513 514 515 516 517 518 519 520 521 522 523 524 525 526 527 528 529 530\n",
      " 531 532 533 534 535 536 537 538 539 540 541 542 543 544 545 546 547 548\n",
      " 549 550 551 552 553 554 555 556 557 558 559 560 561 562 563 564 565 566\n",
      " 567 568 569 570 571 572 573 574 575 576 577 578 579 580 581 582 583 584\n",
      " 585 586 587 588 589 590 591 592 593 594 595 596 597 598 599 600 601 602\n",
      " 603 604 605 606 607 608 609 610 611 612 613 614 615 616 617 618 619 620\n",
      " 621 622 623 624 625 626 627 628 629 630 631 632 633 634 635 636 637 638\n",
      " 639 640 641 642 643 644 645 646 647 648 649 650 651 652 653 654 655 656\n",
      " 657 658 659 660 661 662 663] TEST: [664 665 666 667 668 669 670 671 672 673 674 675 676 677 678 679 680 681\n",
      " 682 683 684 685 686 687 688 689 690 691 692 693 694 695 696 697 698 699\n",
      " 700 701 702 703 704 705 706 707 708 709 710 711 712 713 714 715 716 717\n",
      " 718 719 720 721 722 723 724 725 726 727 728 729 730 731 732 733 734 735\n",
      " 736 737]\n",
      "TRAIN: [ 738  739  740  741  742  743  744  745  746  747  748  749  750  751\n",
      "  752  753  754  755  756  757  758  759  760  761  762  763  764  765\n",
      "  766  767  768  769  770  771  772  773  774  775  776  777  778  779\n",
      "  780  781  782  783  784  785  786  787  788  789  790  791  792  793\n",
      "  794  795  796  797  798  799  800  801  802  803  804  805  806  807\n",
      "  808  809  810  811  812  813  814  815  816  817  818  819  820  821\n",
      "  822  823  824  825  826  827  828  829  830  831  832  833  834  835\n",
      "  836  837  838  839  840  841  842  843  844  845  846  847  848  849\n",
      "  850  851  852  853  854  855  856  857  858  859  860  861  862  863\n",
      "  864  865  866  867  868  869  870  871  872  873  874  875  876  877\n",
      "  878  879  880  881  882  883  884  885  886  887  888  889  890  891\n",
      "  892  893  894  895  896  897  898  899  900  901  902  903  904  905\n",
      "  906  907  908  909  910  911  912  913  914  915  916  917  918  919\n",
      "  920  921  922  923  924  925  926  927  928  929  930  931  932  933\n",
      "  934  935  936  937  938  939  940  941  942  943  944  945  946  947\n",
      "  948  949  950  951  952  953  954  955  956  957  958  959  960  961\n",
      "  962  963  964  965  966  967  968  969  970  971  972  973  974  975\n",
      "  976  977  978  979  980  981  982  983  984  985  986  987  988  989\n",
      "  990  991  992  993  994  995  996  997  998  999 1000 1001 1002 1003\n",
      " 1004 1005 1006 1007 1008 1009 1010 1011 1012 1013 1014 1015 1016 1017\n",
      " 1018 1019 1020 1021 1022 1023 1024 1025 1026 1027 1028 1029 1030 1031\n",
      " 1032] TEST: [1033 1034 1035 1036 1037 1038 1039 1040 1041 1042 1043 1044 1045 1046\n",
      " 1047 1048 1049 1050 1051 1052 1053 1054 1055 1056 1057 1058 1059 1060\n",
      " 1061 1062 1063 1064 1065 1066 1067 1068 1069 1070 1071 1072 1073 1074\n",
      " 1075 1076 1077 1078 1079 1080 1081 1082 1083 1084 1085 1086 1087 1088\n",
      " 1089 1090 1091 1092 1093 1094 1095 1096 1097 1098 1099 1100 1101 1102\n",
      " 1103 1104 1105 1106]\n",
      "TRAIN: [1107 1108 1109 1110 1111 1112 1113 1114 1115 1116 1117 1118 1119 1120\n",
      " 1121 1122 1123 1124 1125 1126 1127 1128 1129 1130 1131 1132 1133 1134\n",
      " 1135 1136 1137 1138 1139 1140 1141 1142 1143 1144 1145 1146 1147 1148\n",
      " 1149 1150 1151 1152 1153 1154 1155 1156 1157 1158 1159 1160 1161 1162\n",
      " 1163 1164 1165 1166 1167 1168 1169 1170 1171 1172 1173 1174 1175 1176\n",
      " 1177 1178 1179 1180 1181 1182 1183 1184 1185 1186 1187 1188 1189 1190\n",
      " 1191 1192 1193 1194 1195 1196 1197 1198 1199 1200 1201 1202 1203 1204\n",
      " 1205 1206 1207 1208 1209 1210 1211 1212 1213 1214 1215 1216 1217 1218\n",
      " 1219 1220 1221 1222 1223 1224 1225 1226 1227 1228 1229 1230 1231 1232\n",
      " 1233 1234 1235 1236 1237 1238 1239 1240 1241 1242 1243 1244 1245 1246\n",
      " 1247 1248 1249 1250 1251 1252 1253 1254 1255 1256 1257 1258 1259 1260\n",
      " 1261 1262 1263 1264 1265 1266 1267 1268 1269 1270 1271 1272 1273 1274\n",
      " 1275 1276 1277 1278 1279 1280 1281 1282 1283 1284 1285 1286 1287 1288\n",
      " 1289 1290 1291 1292 1293 1294 1295 1296 1297 1298 1299 1300 1301 1302\n",
      " 1303 1304 1305 1306 1307 1308 1309 1310 1311 1312 1313 1314 1315 1316\n",
      " 1317 1318 1319 1320 1321 1322 1323 1324 1325 1326 1327 1328 1329 1330\n",
      " 1331 1332 1333 1334 1335 1336 1337 1338 1339 1340 1341 1342 1343 1344\n",
      " 1345 1346 1347 1348 1349 1350 1351 1352 1353 1354 1355 1356 1357 1358\n",
      " 1359 1360 1361 1362 1363 1364 1365 1366 1367 1368 1369 1370 1371 1372\n",
      " 1373 1374 1375 1376 1377 1378 1379 1380 1381 1382 1383 1384 1385 1386\n",
      " 1387 1388 1389 1390 1391 1392 1393 1394 1395 1396 1397 1398 1399 1400\n",
      " 1401] TEST: [1402 1403 1404 1405 1406 1407 1408 1409 1410 1411 1412 1413 1414 1415\n",
      " 1416 1417 1418 1419 1420 1421 1422 1423 1424 1425 1426 1427 1428 1429\n",
      " 1430 1431 1432 1433 1434 1435 1436 1437 1438 1439 1440 1441 1442 1443\n",
      " 1444 1445 1446 1447 1448 1449 1450 1451 1452 1453 1454 1455 1456 1457\n",
      " 1458 1459 1460 1461 1462 1463 1464 1465 1466 1467 1468 1469 1470 1471\n",
      " 1472 1473 1474 1475]\n",
      "TRAIN: [1476 1477 1478 1479 1480 1481 1482 1483 1484 1485 1486 1487 1488 1489\n",
      " 1490 1491 1492 1493 1494 1495 1496 1497 1498 1499 1500 1501 1502 1503\n",
      " 1504 1505 1506 1507 1508 1509 1510 1511 1512 1513 1514 1515 1516 1517\n",
      " 1518 1519 1520 1521 1522 1523 1524 1525 1526 1527 1528 1529 1530 1531\n",
      " 1532 1533 1534 1535 1536 1537 1538 1539 1540 1541 1542 1543 1544 1545\n",
      " 1546 1547 1548 1549 1550 1551 1552 1553 1554 1555 1556 1557 1558 1559\n",
      " 1560 1561 1562 1563 1564 1565 1566 1567 1568 1569 1570 1571 1572 1573\n",
      " 1574 1575 1576 1577 1578 1579 1580 1581 1582 1583 1584 1585 1586 1587\n",
      " 1588 1589 1590 1591 1592 1593 1594 1595 1596 1597 1598 1599 1600 1601\n",
      " 1602 1603 1604 1605 1606 1607 1608 1609 1610 1611 1612 1613 1614 1615\n",
      " 1616 1617 1618 1619 1620 1621 1622 1623 1624 1625 1626 1627 1628 1629\n",
      " 1630 1631 1632 1633 1634 1635 1636 1637 1638 1639 1640 1641 1642 1643\n",
      " 1644 1645 1646 1647 1648 1649 1650 1651 1652 1653 1654 1655 1656 1657\n",
      " 1658 1659 1660 1661 1662 1663 1664 1665 1666 1667 1668 1669 1670 1671\n",
      " 1672 1673 1674 1675 1676 1677 1678 1679 1680 1681 1682 1683 1684 1685\n",
      " 1686 1687 1688 1689 1690 1691 1692 1693 1694 1695 1696 1697 1698 1699\n",
      " 1700 1701 1702 1703 1704 1705 1706 1707 1708 1709 1710 1711 1712 1713\n",
      " 1714 1715 1716 1717 1718 1719 1720 1721 1722 1723 1724 1725 1726 1727\n",
      " 1728 1729 1730 1731 1732 1733 1734 1735 1736 1737 1738 1739 1740 1741\n",
      " 1742 1743 1744 1745 1746 1747 1748 1749 1750 1751 1752 1753 1754 1755\n",
      " 1756 1757 1758 1759 1760 1761 1762 1763 1764 1765 1766 1767 1768 1769\n",
      " 1770] TEST: [1771 1772 1773 1774 1775 1776 1777 1778 1779 1780 1781 1782 1783 1784\n",
      " 1785 1786 1787 1788 1789 1790 1791 1792 1793 1794 1795 1796 1797 1798\n",
      " 1799 1800 1801 1802 1803 1804 1805 1806 1807 1808 1809 1810 1811 1812\n",
      " 1813 1814 1815 1816 1817 1818 1819 1820 1821 1822 1823 1824 1825 1826\n",
      " 1827 1828 1829 1830 1831 1832 1833 1834 1835 1836 1837 1838 1839 1840\n",
      " 1841 1842 1843 1844]\n"
     ]
    },
    {
     "data": {
      "image/png": "[encoded data removed]",
      "text/plain": [
       "<Figure size 1000x600 with 1 Axes>"
      ]
     },
     "metadata": {},
     "output_type": "display_data"
    }
   ],
   "source": [
    "from utils.timeseries_split import BlockingTimeSeriesSplit\n",
    "\n",
    "#create index  \n",
    "indexes = np.arange(len(data[0]))\n",
    "\n",
    "#split data\n",
    "tscv = BlockingTimeSeriesSplit(n_splits=5)\n",
    "# Create the figure\n",
    "fig, ax = plt.subplots(figsize=(10, 6))\n",
    "for i, (train_index, test_index) in enumerate(tscv.split(indexes)):\n",
    "    # Plot train and test indices\n",
    "    ax.plot(train_index, np.zeros_like(train_index) + i, 'o', color='lightblue')\n",
    "    ax.plot(test_index, np.zeros_like(test_index) + i, 'o', color='red')\n",
    "    print(\"TRAIN:\", train_index, \"TEST:\", test_index)\n",
    "    \n",
    "\n",
    "ax.set_yticks(np.arange(5), [\"Fold {}\".format(i) for i in range(1, 6)])\n",
    "plt.show()"
   ]
  },
  {
   "cell_type": "code",
   "execution_count": 6,
   "metadata": {},
   "outputs": [
    {
     "name": "stdout",
     "output_type": "stream",
     "text": [
      "X_series shape: torch.Size([15676, 100, 3])\n",
      "X_mask shape: torch.Size([15676, 100])\n",
      "X_indices shape: torch.Size([15676, 8, 1])\n",
      "y shape: torch.Size([15676, 1])\n"
     ]
    }
   ],
   "source": [
    "from utils.utils import create_multi_motif_dataset\n",
    "\n",
    "lookback_period = 100 #window size\n",
    "step = 5 #step size for the sliding window\n",
    "forecast_period = 50 #forward window size\n",
    "\n",
    "#X_series: past window, X_indices: indexes of the motif in the window,  y: next relative index of the motif\n",
    "X_series, X_indices, X_mask, y = create_multi_motif_dataset(data, lookback_period, step, forecast_period, motifs_indexes, motifs_sizes)\n",
    "\n",
    "# X_series, X2, and y are now PyTorch tensors\n",
    "print(\"X_series shape:\", X_series.shape)  # Expected shape: (num_samples, lookback_period, num_features)\n",
    "print(\"X_mask shape:\", X_mask.shape)  # Expected shape: (num_samples, lookback_period)\n",
    "print(\"X_indices shape:\", X_indices.shape)  # Expected shape: (num_samples, max_motif_length_in_window, 1)\n",
    "print(\"y shape:\", y.shape)    # Expected shape: (num_samples, 1)\n"
   ]
  },
  {
   "cell_type": "code",
   "execution_count": 7,
   "metadata": {},
   "outputs": [
    {
     "name": "stderr",
     "output_type": "stream",
     "text": [
      "[I 2025-01-21 13:35:21,878] A new study created in memory with name: no-name-1f1d710c-d3fd-49a4-aa68-f45e7632c5b6\n"
     ]
    },
    {
     "name": "stdout",
     "output_type": "stream",
     "text": [
      "Training completed all epochs. Best epoch was 199\n",
      "Training completed all epochs. Best epoch was 199\n",
      "Training completed all epochs. Best epoch was 199\n",
      "Training completed all epochs. Best epoch was 199\n"
     ]
    },
    {
     "name": "stderr",
     "output_type": "stream",
     "text": [
      "[I 2025-01-21 13:38:24,768] Trial 0 finished with value: 201.2179962158203 and parameters: {'learning_rate': 2.6565450821928437e-05, 'num_layers': 3, 'batch_size': 32, 'hidden_size_layer_0': 16, 'hidden_size_layer_1': 128, 'hidden_size_layer_2': 32}. Best is trial 0 with value: 201.2179962158203.\n"
     ]
    },
    {
     "name": "stdout",
     "output_type": "stream",
     "text": [
      "Training completed all epochs. Best epoch was 199\n",
      "Training completed all epochs. Best epoch was 199\n",
      "Early stopping at epoch 165, with best epoch being 154\n",
      "Training completed all epochs. Best epoch was 199\n",
      "Early stopping at epoch 185, with best epoch being 174\n"
     ]
    },
    {
     "name": "stderr",
     "output_type": "stream",
     "text": [
      "[I 2025-01-21 13:39:30,938] Trial 1 finished with value: 172.7603332519531 and parameters: {'learning_rate': 1.793578709982463e-05, 'num_layers': 1, 'batch_size': 128, 'hidden_size_layer_0': 256}. Best is trial 1 with value: 172.7603332519531.\n"
     ]
    },
    {
     "name": "stdout",
     "output_type": "stream",
     "text": [
      "Training completed all epochs. Best epoch was 199\n",
      "Training completed all epochs. Best epoch was 199\n",
      "Early stopping at epoch 112, with best epoch being 101\n",
      "Training completed all epochs. Best epoch was 199\n",
      "Early stopping at epoch 120, with best epoch being 109\n"
     ]
    },
    {
     "name": "stderr",
     "output_type": "stream",
     "text": [
      "[I 2025-01-21 13:40:04,177] Trial 2 finished with value: 171.72936401367187 and parameters: {'learning_rate': 7.653371871786874e-05, 'num_layers': 1, 'batch_size': 64, 'hidden_size_layer_0': 64}. Best is trial 2 with value: 171.72936401367187.\n"
     ]
    },
    {
     "name": "stdout",
     "output_type": "stream",
     "text": [
      "Training completed all epochs. Best epoch was 196\n",
      "Early stopping at epoch 129, with best epoch being 118\n",
      "Early stopping at epoch 134, with best epoch being 2\n",
      "Early stopping at epoch 112, with best epoch being 12\n",
      "Early stopping at epoch 121, with best epoch being 3\n"
     ]
    },
    {
     "name": "stderr",
     "output_type": "stream",
     "text": [
      "[I 2025-01-21 13:45:12,209] Trial 3 finished with value: 170.8138397216797 and parameters: {'learning_rate': 0.00011338007139562508, 'num_layers': 3, 'batch_size': 16, 'hidden_size_layer_0': 64, 'hidden_size_layer_1': 128, 'hidden_size_layer_2': 256}. Best is trial 3 with value: 170.8138397216797.\n"
     ]
    },
    {
     "name": "stdout",
     "output_type": "stream",
     "text": [
      "Early stopping at epoch 114, with best epoch being 76\n",
      "Early stopping at epoch 120, with best epoch being 82\n",
      "Early stopping at epoch 112, with best epoch being 19\n",
      "Early stopping at epoch 127, with best epoch being 56\n",
      "Early stopping at epoch 114, with best epoch being 22\n"
     ]
    },
    {
     "name": "stderr",
     "output_type": "stream",
     "text": [
      "[I 2025-01-21 13:47:34,606] Trial 4 finished with value: 171.66095581054688 and parameters: {'learning_rate': 6.5652023505944e-05, 'num_layers': 3, 'batch_size': 64, 'hidden_size_layer_0': 128, 'hidden_size_layer_1': 256, 'hidden_size_layer_2': 256}. Best is trial 3 with value: 170.8138397216797.\n"
     ]
    },
    {
     "name": "stdout",
     "output_type": "stream",
     "text": [
      "Early stopping at epoch 111, with best epoch being 95\n",
      "Training completed all epochs. Best epoch was 199\n",
      "Training completed all epochs. Best epoch was 196\n",
      "Training completed all epochs. Best epoch was 199\n",
      "Training completed all epochs. Best epoch was 199\n"
     ]
    },
    {
     "name": "stderr",
     "output_type": "stream",
     "text": [
      "[I 2025-01-21 13:49:29,119] Trial 5 finished with value: 175.62240295410157 and parameters: {'learning_rate': 8.40991261739116e-05, 'num_layers': 3, 'batch_size': 128, 'hidden_size_layer_0': 256, 'hidden_size_layer_1': 128, 'hidden_size_layer_2': 64}. Best is trial 3 with value: 170.8138397216797.\n"
     ]
    },
    {
     "name": "stdout",
     "output_type": "stream",
     "text": [
      "Training completed all epochs. Best epoch was 199\n",
      "Early stopping at epoch 171, with best epoch being 160\n",
      "Early stopping at epoch 111, with best epoch being 88\n",
      "Early stopping at epoch 183, with best epoch being 172\n",
      "Early stopping at epoch 111, with best epoch being 98\n"
     ]
    },
    {
     "name": "stderr",
     "output_type": "stream",
     "text": [
      "[I 2025-01-21 13:51:37,737] Trial 6 finished with value: 171.7222869873047 and parameters: {'learning_rate': 4.413013947169429e-05, 'num_layers': 3, 'batch_size': 32, 'hidden_size_layer_0': 16, 'hidden_size_layer_1': 128, 'hidden_size_layer_2': 64}. Best is trial 3 with value: 170.8138397216797.\n"
     ]
    },
    {
     "name": "stdout",
     "output_type": "stream",
     "text": [
      "Training completed all epochs. Best epoch was 192\n",
      "Early stopping at epoch 114, with best epoch being 70\n",
      "Early stopping at epoch 124, with best epoch being 8\n",
      "Early stopping at epoch 119, with best epoch being 46\n",
      "Early stopping at epoch 121, with best epoch being 8\n"
     ]
    },
    {
     "name": "stderr",
     "output_type": "stream",
     "text": [
      "[I 2025-01-21 13:52:44,562] Trial 7 finished with value: 171.60132751464843 and parameters: {'learning_rate': 0.0009678973008498044, 'num_layers': 3, 'batch_size': 64, 'hidden_size_layer_0': 128, 'hidden_size_layer_1': 128, 'hidden_size_layer_2': 64}. Best is trial 3 with value: 170.8138397216797.\n"
     ]
    },
    {
     "name": "stdout",
     "output_type": "stream",
     "text": [
      "Early stopping at epoch 115, with best epoch being 96\n",
      "Training completed all epochs. Best epoch was 199\n",
      "Early stopping at epoch 165, with best epoch being 154\n",
      "Training completed all epochs. Best epoch was 199\n",
      "Early stopping at epoch 182, with best epoch being 171\n"
     ]
    },
    {
     "name": "stderr",
     "output_type": "stream",
     "text": [
      "[I 2025-01-21 13:54:30,064] Trial 8 finished with value: 172.2690887451172 and parameters: {'learning_rate': 0.0001030062884451417, 'num_layers': 1, 'batch_size': 32, 'hidden_size_layer_0': 16}. Best is trial 3 with value: 170.8138397216797.\n"
     ]
    },
    {
     "name": "stdout",
     "output_type": "stream",
     "text": [
      "Training completed all epochs. Best epoch was 199\n",
      "Training completed all epochs. Best epoch was 199\n",
      "Training completed all epochs. Best epoch was 199\n",
      "Training completed all epochs. Best epoch was 199\n",
      "Training completed all epochs. Best epoch was 199\n"
     ]
    },
    {
     "name": "stderr",
     "output_type": "stream",
     "text": [
      "[I 2025-01-21 13:56:50,958] Trial 9 finished with value: 314.4402252197266 and parameters: {'learning_rate': 9.215336439857658e-05, 'num_layers': 3, 'batch_size': 128, 'hidden_size_layer_0': 256, 'hidden_size_layer_1': 256, 'hidden_size_layer_2': 16}. Best is trial 3 with value: 170.8138397216797.\n"
     ]
    },
    {
     "name": "stdout",
     "output_type": "stream",
     "text": [
      "Training completed all epochs. Best epoch was 199\n",
      "Best hyperparameters: {'learning_rate': 0.00011338007139562508, 'num_layers': 3, 'batch_size': 16, 'hidden_size_layer_0': 64, 'hidden_size_layer_1': 128, 'hidden_size_layer_2': 256}\n",
      "Number of finished trials:  10\n",
      "Best trial: 3\n",
      "Best hyperparameters: {'learning_rate': 0.00011338007139562508, 'num_layers': 3, 'batch_size': 16, 'hidden_size_layer_0': 64, 'hidden_size_layer_1': 128, 'hidden_size_layer_2': 256}\n",
      "Validation Losses: [185.681, 140.718, 178.538, 167.983, 181.15]\n",
      "Mean validation loss: 170.814\n",
      "Test Losses: [167.119, 182.344, 217.492, 200.636, 188.161]\n",
      "Mean test loss: 191.15\n",
      "Mean test MAE: 11.537 std: 0.74\n",
      "Mean test RMSE: 13.812 std: 0.614\n"
     ]
    },
    {
     "data": {
      "image/png": "[encoded data removed]",
      "text/plain": [
       "<Figure size 2000x500 with 5 Axes>"
      ]
     },
     "metadata": {},
     "output_type": "display_data"
    }
   ],
   "source": [
    "from models.lstm_pytorch import LSTM\n",
    "from utils.train_pipeline import run_optuna_study\n",
    "from utils.utils import print_study_results, plot_best_model_results\n",
    "\n",
    "\n",
    "n_trials = 3\n",
    "num_epochs = 500\n",
    "model_type = \"LSTM\"\n",
    "model_name = \"LSTMSeries\"\n",
    "\n",
    "suggestion_dict = {\n",
    "    \"learning_rate\": {\n",
    "        \"type\": \"float\",\n",
    "        \"args\": [1e-5, 1e-3], \n",
    "        \"kwargs\": {\"log\": True} \n",
    "    },\n",
    "    \"num_layers\": {\n",
    "        \"type\": \"categorical\",\n",
    "        \"args\": [[1, 2, 3]]  \n",
    "    },\n",
    "    \"batch_size\": {\n",
    "        \"type\": \"categorical\",\n",
    "        \"args\": [[16, 32, 64, 128]] \n",
    "    }\n",
    "}\n",
    "\n",
    "model_params_keys = [\"hidden_sizes_list\"]\n",
    "\n",
    "\n",
    "model_results_dir = os.path.join(RESULTS_DIR, f\"{model_name}_{n_trials}_trials_{num_epochs}_epochs\")\n",
    "os.makedirs(model_results_dir, exist_ok=True)  \n",
    "\n",
    "X = {\"X_series\": X_series}\n",
    "run_optuna_study(pipeline.run_cross_val, LSTM, model_type, suggestion_dict, model_params_keys, seed, X, y, NORMALIZE_FLAGS, model_results_dir, n_trials=n_trials, num_epochs=num_epochs)\n",
    "\n",
    "study = joblib.load(os.path.join(model_results_dir, \"study.pkl\"))\n",
    "print_study_results(study)\n",
    "plot_best_model_results(study.trials_dataframe(), save_path=os.path.join(IMAGES_DIR, f\"{model_name}_{n_trials}_trials_{num_epochs}_epochs_losses.png\"))\n"
   ]
  },
  {
   "cell_type": "code",
   "execution_count": null,
   "metadata": {},
   "outputs": [],
   "source": [
    "from models.lstm_pytorch import LSTM\n",
    "from utils.train_pipeline import run_optuna_study\n",
    "from utils.utils import print_study_results, plot_best_model_results\n",
    "\n",
    "\n",
    "n_trials = 3\n",
    "num_epochs = 500\n",
    "model_type = \"LSTM\"\n",
    "model_name = \"LSTMSeries\"\n",
    "\n",
    "suggestion_dict = {\n",
    "    \"learning_rate\": {\n",
    "        \"type\": \"float\",\n",
    "        \"args\": [1e-5, 1e-3], \n",
    "        \"kwargs\": {\"log\": True} \n",
    "    },\n",
    "    \"num_layers\": {\n",
    "        \"type\": \"categorical\",\n",
    "        \"args\": [[1, 2, 3]]  \n",
    "    },\n",
    "    \"batch_size\": {\n",
    "        \"type\": \"categorical\",\n",
    "        \"args\": [[16, 32, 64, 128]] \n",
    "    }\n",
    "}\n",
    "\n",
    "model_params_keys = [\"hidden_sizes_list\"]\n",
    "\n",
    "\n",
    "model_results_dir = os.path.join(RESULTS_DIR, f\"{model_name}_{n_trials}_trials_{num_epochs}_epochs\")\n",
    "os.makedirs(model_results_dir, exist_ok=True)  \n",
    "\n",
    "X = {\"X_series\": X_series, \"X_mask\": X_mask}\n",
    "run_optuna_study(pipeline.run_cross_val, LSTM, model_type, suggestion_dict, model_params_keys, seed, X, y, NORMALIZE_FLAGS, model_results_dir, n_trials=n_trials, num_epochs=num_epochs)\n",
    "\n",
    "study = joblib.load(os.path.join(model_results_dir, \"study.pkl\"))\n",
    "print_study_results(study)\n",
    "plot_best_model_results(study.trials_dataframe(), save_path=os.path.join(IMAGES_DIR, f\"{model_name}_{n_trials}_trials_{num_epochs}_epochs_losses.png\"))\n"
   ]
  },
  {
   "cell_type": "code",
   "execution_count": null,
   "metadata": {},
   "outputs": [
    {
     "name": "stderr",
     "output_type": "stream",
     "text": [
      "[I 2025-01-21 14:02:44,061] A new study created in memory with name: no-name-5be2eec5-5f82-456c-b18a-efa3dd4b29dd\n"
     ]
    },
    {
     "name": "stdout",
     "output_type": "stream",
     "text": [
      "Early stopping at epoch 494, with best epoch being 483\n",
      "Early stopping at epoch 288, with best epoch being 277\n",
      "Training completed all epochs. Best epoch was 498\n",
      "Early stopping at epoch 338, with best epoch being 327\n"
     ]
    }
   ],
   "source": [
    "from models.lstm_pytorch import LSTM\n",
    "from utils.train_pipeline import run_optuna_study\n",
    "from utils.utils import print_study_results, plot_best_model_results\n",
    "\n",
    "\n",
    "n_trials = 3\n",
    "num_epochs = 500\n",
    "model_type = \"LSTM\"\n",
    "model_name = \"LSTMSeries\"\n",
    "\n",
    "suggestion_dict = {\n",
    "    \"learning_rate\": {\n",
    "        \"type\": \"float\",\n",
    "        \"args\": [1e-5, 1e-3], \n",
    "        \"kwargs\": {\"log\": True} \n",
    "    },\n",
    "    \"num_layers\": {\n",
    "        \"type\": \"categorical\",\n",
    "        \"args\": [[1, 2, 3]]  \n",
    "    },\n",
    "    \"batch_size\": {\n",
    "        \"type\": \"categorical\",\n",
    "        \"args\": [[16, 32, 64, 128]] \n",
    "    }\n",
    "}\n",
    "\n",
    "model_params_keys = [\"hidden_sizes_list\"]\n",
    "\n",
    "\n",
    "model_results_dir = os.path.join(RESULTS_DIR, f\"{model_name}_{n_trials}_trials_{num_epochs}_epochs\")\n",
    "os.makedirs(model_results_dir, exist_ok=True)  \n",
    "\n",
    "X = {\"X_indices\": X_indices}\n",
    "run_optuna_study(pipeline.run_cross_val, LSTM, model_type, suggestion_dict, model_params_keys, seed, X, y, NORMALIZE_FLAGS, model_results_dir, n_trials=n_trials, num_epochs=num_epochs)\n",
    "\n",
    "study = joblib.load(os.path.join(model_results_dir, \"study.pkl\"))\n",
    "print_study_results(study)\n",
    "plot_best_model_results(study.trials_dataframe(), save_path=os.path.join(IMAGES_DIR, f\"{model_name}_{n_trials}_trials_{num_epochs}_epochs_losses.png\"))\n"
   ]
  }
 ],
 "metadata": {
  "kernelspec": {
   "display_name": "torch_motifpredenv",
   "language": "python",
   "name": "python3"
  },
  "language_info": {
   "codemirror_mode": {
    "name": "ipython",
    "version": 3
   },
   "file_extension": ".py",
   "mimetype": "text/x-python",
   "name": "python",
   "nbconvert_exporter": "python",
   "pygments_lexer": "ipython3",
   "version": "3.12.2"
  }
 },
 "nbformat": 4,
 "nbformat_minor": 2
}
