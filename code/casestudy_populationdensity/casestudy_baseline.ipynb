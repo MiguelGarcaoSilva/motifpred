{
 "cells": [
  {
   "cell_type": "code",
   "execution_count": 1,
   "metadata": {},
   "outputs": [
    {
     "name": "stderr",
     "output_type": "stream",
     "text": [
      "2025-02-08 15:05:45,729 - INFO - Results will be saved in: /home/mgsilva/motifpred/results/populationdensity\n",
      "2025-02-08 15:05:45,729 - INFO - Images will be saved in: /home/mgsilva/motifpred/images/populationdensity\n",
      "2025-02-08 15:05:45,729 - INFO - Data will be accessed from: /home/mgsilva/motifpred/data/populationdensity\n"
     ]
    },
    {
     "name": "stdout",
     "output_type": "stream",
     "text": [
      "Results will be saved in: /home/mgsilva/motifpred/results/populationdensity\n",
      "Images will be saved in: /home/mgsilva/motifpred/images/populationdensity\n",
      "Data will be accessed from: /home/mgsilva/motifpred/data/populationdensity\n"
     ]
    }
   ],
   "source": [
    "import numpy as np\n",
    "import pandas as pd\n",
    "import os\n",
    "import sys\n",
    "import csv\n",
    "import matplotlib.pyplot as plt\n",
    "import matplotlib.dates as mdates\n",
    "import matplotlib.image as mpimg\n",
    "import optuna\n",
    "import random\n",
    "import joblib\n",
    "import math\n",
    "import ast\n",
    "import logging\n",
    "from msig import Motif, NullModel\n",
    "from config import RESULTS_MOTIF_DIR, RESULTS_DIR, IMAGES_DIR, DATA_DIR, DATASET_PATH, TOWNSHIP_NAME, VARIABLES, NORMALIZE_FLAGS, STUMPY_EXCL_ZONE_DENOM, TOP_K_MP, INCLUDE, NORMALIZE, SUBSQUENCES_LENGTHS, NTOP_MOTIFS, MOTIF_SIZE\n",
    "from config import LOOKBACK_PERIOD, STEP, FORECAST_PERIOD\n",
    "\n",
    "optuna.logging.set_verbosity(optuna.logging.WARNING)\n",
    "\n",
    "print(f\"Results will be saved in: {RESULTS_DIR}\")\n",
    "print(f\"Images will be saved in: {IMAGES_DIR}\")\n",
    "print(f\"Data will be accessed from: {DATA_DIR}\")\n",
    "\n",
    "\n",
    "if '__file__' in globals():\n",
    "    # For standalone scripts\n",
    "    base_dir = os.path.dirname(__file__)\n",
    "else:\n",
    "    # For Jupyter or interactive environments\n",
    "    base_dir = os.getcwd()\n",
    "\n",
    "# Add the parent directory of `utils` to the Python path\n",
    "sys.path.append(os.path.abspath(os.path.join(base_dir, \"../\")))"
   ]
  },
  {
   "cell_type": "code",
   "execution_count": 2,
   "metadata": {},
   "outputs": [
    {
     "data": {
      "text/html": [
       "<div>\n",
       "<style scoped>\n",
       "    .dataframe tbody tr th:only-of-type {\n",
       "        vertical-align: middle;\n",
       "    }\n",
       "\n",
       "    .dataframe tbody tr th {\n",
       "        vertical-align: top;\n",
       "    }\n",
       "\n",
       "    .dataframe thead th {\n",
       "        text-align: right;\n",
       "    }\n",
       "</style>\n",
       "<table border=\"1\" class=\"dataframe\">\n",
       "  <thead>\n",
       "    <tr style=\"text-align: right;\">\n",
       "      <th></th>\n",
       "      <th>ID</th>\n",
       "      <th>m</th>\n",
       "      <th>#Matches</th>\n",
       "      <th>Indices</th>\n",
       "      <th>max(dists)</th>\n",
       "      <th>min(dists)</th>\n",
       "      <th>med(dists)</th>\n",
       "    </tr>\n",
       "  </thead>\n",
       "  <tbody>\n",
       "    <tr>\n",
       "      <th>26</th>\n",
       "      <td>26</td>\n",
       "      <td>12</td>\n",
       "      <td>57</td>\n",
       "      <td>[1759, 174, 1303, 1063, 1709, 580, 726, 343, 1...</td>\n",
       "      <td>2.958</td>\n",
       "      <td>2.095</td>\n",
       "      <td>2.590</td>\n",
       "    </tr>\n",
       "    <tr>\n",
       "      <th>5</th>\n",
       "      <td>5</td>\n",
       "      <td>12</td>\n",
       "      <td>46</td>\n",
       "      <td>[863, 359, 167, 119, 311, 287, 719, 791, 1175,...</td>\n",
       "      <td>1.162</td>\n",
       "      <td>0.371</td>\n",
       "      <td>0.785</td>\n",
       "    </tr>\n",
       "    <tr>\n",
       "      <th>23</th>\n",
       "      <td>23</td>\n",
       "      <td>12</td>\n",
       "      <td>45</td>\n",
       "      <td>[1272, 284, 1198, 1147, 1029, 743, 1247, 957, ...</td>\n",
       "      <td>2.962</td>\n",
       "      <td>1.731</td>\n",
       "      <td>2.650</td>\n",
       "    </tr>\n",
       "    <tr>\n",
       "      <th>11</th>\n",
       "      <td>11</td>\n",
       "      <td>12</td>\n",
       "      <td>43</td>\n",
       "      <td>[1752, 240, 1150, 143, 960, 1222, 887, 382, 21...</td>\n",
       "      <td>1.353</td>\n",
       "      <td>0.755</td>\n",
       "      <td>1.188</td>\n",
       "    </tr>\n",
       "    <tr>\n",
       "      <th>6</th>\n",
       "      <td>6</td>\n",
       "      <td>12</td>\n",
       "      <td>37</td>\n",
       "      <td>[1254, 1517, 1325, 1540, 317, 1804, 125, 1564,...</td>\n",
       "      <td>1.291</td>\n",
       "      <td>0.542</td>\n",
       "      <td>1.033</td>\n",
       "    </tr>\n",
       "  </tbody>\n",
       "</table>\n",
       "</div>"
      ],
      "text/plain": [
       "    ID   m  #Matches                                            Indices  \\\n",
       "26  26  12        57  [1759, 174, 1303, 1063, 1709, 580, 726, 343, 1...   \n",
       "5    5  12        46  [863, 359, 167, 119, 311, 287, 719, 791, 1175,...   \n",
       "23  23  12        45  [1272, 284, 1198, 1147, 1029, 743, 1247, 957, ...   \n",
       "11  11  12        43  [1752, 240, 1150, 143, 960, 1222, 887, 382, 21...   \n",
       "6    6  12        37  [1254, 1517, 1325, 1540, 317, 1804, 125, 1564,...   \n",
       "\n",
       "    max(dists)  min(dists)  med(dists)  \n",
       "26       2.958       2.095       2.590  \n",
       "5        1.162       0.371       0.785  \n",
       "23       2.962       1.731       2.650  \n",
       "11       1.353       0.755       1.188  \n",
       "6        1.291       0.542       1.033  "
      ]
     },
     "execution_count": 2,
     "metadata": {},
     "output_type": "execute_result"
    }
   ],
   "source": [
    "mp_stats_table = pd.read_csv(\n",
    "    RESULTS_DIR / f\"mp_stats_table_normalized_{NORMALIZE}_top_{TOP_K_MP}.csv\"\n",
    ")\n",
    "mp_stats_table = mp_stats_table[mp_stats_table[\"m\"] == MOTIF_SIZE]\n",
    "top_motifs = mp_stats_table.sort_values(by=[\"#Matches\", \"ID\"], ascending=[False, True]).head(NTOP_MOTIFS)\n",
    "top_motifs\n"
   ]
  },
  {
   "cell_type": "code",
   "execution_count": 3,
   "metadata": {},
   "outputs": [
    {
     "data": {
      "text/html": [
       "<div>\n",
       "<style scoped>\n",
       "    .dataframe tbody tr th:only-of-type {\n",
       "        vertical-align: middle;\n",
       "    }\n",
       "\n",
       "    .dataframe tbody tr th {\n",
       "        vertical-align: top;\n",
       "    }\n",
       "\n",
       "    .dataframe thead th {\n",
       "        text-align: right;\n",
       "    }\n",
       "</style>\n",
       "<table border=\"1\" class=\"dataframe\">\n",
       "  <thead>\n",
       "    <tr style=\"text-align: right;\">\n",
       "      <th></th>\n",
       "      <th></th>\n",
       "      <th>sum_terminals</th>\n",
       "    </tr>\n",
       "    <tr>\n",
       "      <th>one_time</th>\n",
       "      <th>township_name</th>\n",
       "      <th></th>\n",
       "    </tr>\n",
       "  </thead>\n",
       "  <tbody>\n",
       "    <tr>\n",
       "      <th>2021-09-15 00:00:00</th>\n",
       "      <th>Avenidas Novas</th>\n",
       "      <td>260700.0</td>\n",
       "    </tr>\n",
       "    <tr>\n",
       "      <th>2021-09-15 01:00:00</th>\n",
       "      <th>Avenidas Novas</th>\n",
       "      <td>276675.0</td>\n",
       "    </tr>\n",
       "    <tr>\n",
       "      <th>2021-09-15 02:00:00</th>\n",
       "      <th>Avenidas Novas</th>\n",
       "      <td>284563.0</td>\n",
       "    </tr>\n",
       "    <tr>\n",
       "      <th>2021-09-15 03:00:00</th>\n",
       "      <th>Avenidas Novas</th>\n",
       "      <td>279563.0</td>\n",
       "    </tr>\n",
       "    <tr>\n",
       "      <th>2021-09-15 04:00:00</th>\n",
       "      <th>Avenidas Novas</th>\n",
       "      <td>281460.0</td>\n",
       "    </tr>\n",
       "    <tr>\n",
       "      <th>...</th>\n",
       "      <th>...</th>\n",
       "      <td>...</td>\n",
       "    </tr>\n",
       "    <tr>\n",
       "      <th>2021-11-30 19:00:00</th>\n",
       "      <th>Avenidas Novas</th>\n",
       "      <td>391367.0</td>\n",
       "    </tr>\n",
       "    <tr>\n",
       "      <th>2021-11-30 20:00:00</th>\n",
       "      <th>Avenidas Novas</th>\n",
       "      <td>352361.0</td>\n",
       "    </tr>\n",
       "    <tr>\n",
       "      <th>2021-11-30 21:00:00</th>\n",
       "      <th>Avenidas Novas</th>\n",
       "      <td>388246.0</td>\n",
       "    </tr>\n",
       "    <tr>\n",
       "      <th>2021-11-30 22:00:00</th>\n",
       "      <th>Avenidas Novas</th>\n",
       "      <td>360169.0</td>\n",
       "    </tr>\n",
       "    <tr>\n",
       "      <th>2021-11-30 23:00:00</th>\n",
       "      <th>Avenidas Novas</th>\n",
       "      <td>349164.0</td>\n",
       "    </tr>\n",
       "  </tbody>\n",
       "</table>\n",
       "<p>1848 rows × 1 columns</p>\n",
       "</div>"
      ],
      "text/plain": [
       "                                    sum_terminals\n",
       "one_time            township_name                \n",
       "2021-09-15 00:00:00 Avenidas Novas       260700.0\n",
       "2021-09-15 01:00:00 Avenidas Novas       276675.0\n",
       "2021-09-15 02:00:00 Avenidas Novas       284563.0\n",
       "2021-09-15 03:00:00 Avenidas Novas       279563.0\n",
       "2021-09-15 04:00:00 Avenidas Novas       281460.0\n",
       "...                                           ...\n",
       "2021-11-30 19:00:00 Avenidas Novas       391367.0\n",
       "2021-11-30 20:00:00 Avenidas Novas       352361.0\n",
       "2021-11-30 21:00:00 Avenidas Novas       388246.0\n",
       "2021-11-30 22:00:00 Avenidas Novas       360169.0\n",
       "2021-11-30 23:00:00 Avenidas Novas       349164.0\n",
       "\n",
       "[1848 rows x 1 columns]"
      ]
     },
     "execution_count": 3,
     "metadata": {},
     "output_type": "execute_result"
    }
   ],
   "source": [
    "# read csv\n",
    "data_df = pd.read_csv(\n",
    "    DATASET_PATH,\n",
    "    parse_dates=[\"one_time\"],\n",
    "    date_format=\"%Y-%m-%d %H:%M:%S\",\n",
    "    index_col=0,\n",
    ")\n",
    "\n",
    "data_df = data_df[data_df[\"township_name\"] == TOWNSHIP_NAME]\n",
    "#set index to one_time and township_name\n",
    "data_df = data_df.set_index([\"one_time\", \"township_name\"]).sort_index()[VARIABLES]\n",
    "data = data_df.to_numpy().T\n",
    "data_univar = data[0]\n",
    "data_df"
   ]
  },
  {
   "cell_type": "code",
   "execution_count": 4,
   "metadata": {},
   "outputs": [
    {
     "name": "stdout",
     "output_type": "stream",
     "text": [
      "Device: cuda\n",
      "tensor([[0.3126, 0.3791, 0.3087],\n",
      "        [0.0736, 0.4216, 0.0691],\n",
      "        [0.2332, 0.4047, 0.2162],\n",
      "        [0.9927, 0.4128, 0.5938],\n",
      "        [0.6128, 0.1519, 0.0453]])\n"
     ]
    }
   ],
   "source": [
    "# Import shared setup\n",
    "from utils.setup import seed, device, early_stopper, pipeline, test_tensor\n",
    "\n",
    "# Example usage\n",
    "print(f\"Device: {device}\")\n",
    "test_tensor()"
   ]
  },
  {
   "cell_type": "code",
   "execution_count": 5,
   "metadata": {},
   "outputs": [
    {
     "name": "stdout",
     "output_type": "stream",
     "text": [
      "Evaluating motif 26 with size 12 and 58  indexes \n",
      "X_series shape: torch.Size([1173, 504, 1])\n",
      "X_indices shape: torch.Size([1173, 18, 1])\n",
      "X_mask shape: torch.Size([1173, 504])\n",
      "y shape: torch.Size([1173, 1])\n"
     ]
    },
    {
     "data": {
      "application/vnd.jupyter.widget-view+json": {
       "model_id": "33e7338a3487414885811e5e34c2d78f",
       "version_major": 2,
       "version_minor": 0
      },
      "text/plain": [
       "  0%|          | 0/1 [00:00<?, ?it/s]"
      ]
     },
     "metadata": {},
     "output_type": "display_data"
    },
    {
     "name": "stdout",
     "output_type": "stream",
     "text": [
      "Best hyperparameters: {'batch_size': 32}\n",
      "Best epoch: 0\n",
      "Test Loss: 250.05662536621094, Test MAE: 12.019815444946289, Test RMSE: 15.813179016113281\n",
      "Best hyperparameters: {'batch_size': 32}\n",
      "Evaluating motif 5 with size 12 and 47  indexes \n",
      "X_series shape: torch.Size([1032, 504, 1])\n",
      "X_indices shape: torch.Size([1032, 16, 1])\n",
      "X_mask shape: torch.Size([1032, 504])\n",
      "y shape: torch.Size([1032, 1])\n"
     ]
    },
    {
     "data": {
      "application/vnd.jupyter.widget-view+json": {
       "model_id": "0177a7863f514a0fae831e1c2df83a44",
       "version_major": 2,
       "version_minor": 0
      },
      "text/plain": [
       "  0%|          | 0/1 [00:00<?, ?it/s]"
      ]
     },
     "metadata": {},
     "output_type": "display_data"
    },
    {
     "name": "stdout",
     "output_type": "stream",
     "text": [
      "Best hyperparameters: {'batch_size': 32}\n",
      "Best epoch: 0\n",
      "Test Loss: 348.3819885253906, Test MAE: 16.235063552856445, Test RMSE: 18.664993286132812\n",
      "Best hyperparameters: {'batch_size': 32}\n",
      "Evaluating motif 23 with size 12 and 46  indexes \n",
      "X_series shape: torch.Size([1122, 504, 1])\n",
      "X_indices shape: torch.Size([1122, 16, 1])\n",
      "X_mask shape: torch.Size([1122, 504])\n",
      "y shape: torch.Size([1122, 1])\n"
     ]
    },
    {
     "data": {
      "application/vnd.jupyter.widget-view+json": {
       "model_id": "8927b6581b6849ddad22687b7fa81623",
       "version_major": 2,
       "version_minor": 0
      },
      "text/plain": [
       "  0%|          | 0/1 [00:00<?, ?it/s]"
      ]
     },
     "metadata": {},
     "output_type": "display_data"
    },
    {
     "name": "stdout",
     "output_type": "stream",
     "text": [
      "Best hyperparameters: {'batch_size': 32}\n",
      "Best epoch: 0\n",
      "Test Loss: 88.6906967163086, Test MAE: 8.207314491271973, Test RMSE: 9.417573928833008\n",
      "Best hyperparameters: {'batch_size': 32}\n",
      "Evaluating motif 11 with size 12 and 44  indexes \n",
      "X_series shape: torch.Size([1050, 504, 1])\n",
      "X_indices shape: torch.Size([1050, 15, 1])\n",
      "X_mask shape: torch.Size([1050, 504])\n",
      "y shape: torch.Size([1050, 1])\n"
     ]
    },
    {
     "data": {
      "application/vnd.jupyter.widget-view+json": {
       "model_id": "11d3f1394f284979ba6d0339fd633849",
       "version_major": 2,
       "version_minor": 0
      },
      "text/plain": [
       "  0%|          | 0/1 [00:00<?, ?it/s]"
      ]
     },
     "metadata": {},
     "output_type": "display_data"
    },
    {
     "name": "stdout",
     "output_type": "stream",
     "text": [
      "Best hyperparameters: {'batch_size': 32}\n",
      "Best epoch: 0\n",
      "Test Loss: 225.731689453125, Test MAE: 12.406604766845703, Test RMSE: 15.024370193481445\n",
      "Best hyperparameters: {'batch_size': 32}\n",
      "Evaluating motif 6 with size 12 and 38  indexes \n",
      "X_series shape: torch.Size([979, 504, 1])\n",
      "X_indices shape: torch.Size([979, 12, 1])\n",
      "X_mask shape: torch.Size([979, 504])\n",
      "y shape: torch.Size([979, 1])\n"
     ]
    },
    {
     "data": {
      "application/vnd.jupyter.widget-view+json": {
       "model_id": "def2fcbccda049acb710acdfb0180638",
       "version_major": 2,
       "version_minor": 0
      },
      "text/plain": [
       "  0%|          | 0/1 [00:00<?, ?it/s]"
      ]
     },
     "metadata": {},
     "output_type": "display_data"
    },
    {
     "name": "stdout",
     "output_type": "stream",
     "text": [
      "Best hyperparameters: {'batch_size': 32}\n",
      "Best epoch: 0\n",
      "Test Loss: 361.84283447265625, Test MAE: 15.887364387512207, Test RMSE: 19.022167205810547\n",
      "Best hyperparameters: {'batch_size': 32}\n",
      "Aggregated Results Across Top 10 Motifs:\n",
      "Mean Test Loss: 254.94076690673828 ± 98.66653417451744\n",
      "Mean Test MAE: 12.951232528686523 ± 2.935075195502496\n",
      "Mean Test RMSE: 15.588456726074218 ± 3.4555443300646194\n"
     ]
    }
   ],
   "source": [
    "from utils.utils import create_dataset\n",
    "from utils.train_pipeline import run_optuna_study\n",
    "from utils.utils import get_best_model_results_traindevtest, plot_best_model_results_traindevtest\n",
    "from models.baseline_pytorch import BaselineAverage, BaselineLastDifference\n",
    "from utils.utils import plot_preds_vs_truevalues\n",
    "from utils.train_pipeline import get_preds_best_config_train_val_test\n",
    "\n",
    "test_losses_list = []\n",
    "test_mae_list = []\n",
    "test_rmse_list = []\n",
    "\n",
    "# Loop through each of the top 10 motifs\n",
    "for i, top_motif in top_motifs.iterrows():\n",
    "    motif_indexes = sorted(ast.literal_eval(top_motif[\"Indices\"]))\n",
    "    \n",
    "    print(f\"Evaluating motif {i} with size {MOTIF_SIZE} and {len(motif_indexes)}  indexes \")\n",
    "    \n",
    "    # Create dataset for the current motif\n",
    "    X_series, X_indices, X_mask, y = create_dataset(data, LOOKBACK_PERIOD, STEP, FORECAST_PERIOD, motif_indexes, MOTIF_SIZE)\n",
    "\n",
    "    # X_series, X2, and y are now PyTorch tensors\n",
    "    print(\"X_series shape:\", X_series.shape)  # Expected shape: (num_samples, LOOKBACK_PERIOD, num_features)\n",
    "    print(\"X_indices shape:\", X_indices.shape)  # Expected shape: (num_samples, max_motif_length_in_window, 1)\n",
    "    print(\"X_mask shape:\", X_mask.shape)  # Expected shape: (num_samples, max_motif_length_in_window)\n",
    "    print(\"y shape:\", y.shape)    # Expected shape: (num_samples, 1)\n",
    "    \n",
    "    # Define the model and run the Optuna study\n",
    "    n_trials = 1\n",
    "    num_epochs = 1\n",
    "    model_name = \"BaselineAverage\" \n",
    "    model_type = \"Baseline\"\n",
    "    \n",
    "    suggestion_dict = {\n",
    "        \"batch_size\": {\n",
    "            \"type\": \"categorical\",\n",
    "            \"args\": [[4, 8, 16, 32]]\n",
    "        }\n",
    "    }\n",
    "    \n",
    "    model_params_keys = []\n",
    "    \n",
    "    model_results_dir = os.path.join(RESULTS_DIR, f\"{model_name}_{n_trials}_trials_{num_epochs}_epochs_motif_{i+1}\")\n",
    "    os.makedirs(model_results_dir, exist_ok=True)  \n",
    "    \n",
    "    X = {\"X_series\": X_series, \"X_mask\": X_mask, \"X_indices\": X_indices}\n",
    "    normalize_flags = {\"X_series\": True, \"X_mask\": False, \"X_indices\": False}\n",
    "    \n",
    "    run_optuna_study(pipeline.run_train_val_test, eval(model_name), model_type, suggestion_dict,  model_params_keys, seed, X , y, normalize_flags, model_results_dir, n_trials=n_trials, num_epochs=num_epochs)\n",
    "    \n",
    "    study = joblib.load(os.path.join(model_results_dir, \"study.pkl\"))\n",
    "    train_losses, val_losses, best_epoch, test_loss, test_mae, test_rmse = get_best_model_results_traindevtest(study)\n",
    "    \n",
    "    print(f\"Best epoch: {best_epoch}\")\n",
    "    print(f\"Test Loss: {test_loss}, Test MAE: {test_mae}, Test RMSE: {test_rmse}\")\n",
    "\n",
    "    test_losses_list.append(test_loss)\n",
    "    test_mae_list.append(test_mae)\n",
    "    test_rmse_list.append(test_rmse)\n",
    "    \n",
    "    # Plot predictions vs true values\n",
    "    epochs_train_losses, epochs_val_losses, val_losses, test_losses, test_mae, test_rmse, all_predictions, all_true_values = get_preds_best_config_train_val_test(study, pipeline, eval(model_name), model_type, model_params_keys, num_epochs=num_epochs, seed=seed, X=X, y=y, normalize_flags=normalize_flags)\n",
    "    #plot_preds_vs_truevalues(np.ravel(all_true_values), np.ravel(all_predictions), fold=0, save_path=os.path.join(IMAGES_DIR, f\"{model_name}_{n_trials}_trials_{num_epochs}_epochs_motif_{i+1}_fold_{0}_predictions.png\"))\n",
    "\n",
    "\n",
    "# Convert lists to numpy arrays for easier calculations\n",
    "test_losses_array = np.array(test_losses_list)\n",
    "test_mae_array = np.array(test_mae_list)\n",
    "test_rmse_array = np.array(test_rmse_list)\n",
    "\n",
    "# Calculate mean and standard deviation\n",
    "mean_test_loss = np.mean(test_losses_array)\n",
    "std_test_loss = np.std(test_losses_array)\n",
    "\n",
    "mean_test_mae = np.mean(test_mae_array)\n",
    "std_test_mae = np.std(test_mae_array)\n",
    "\n",
    "mean_test_rmse = np.mean(test_rmse_array)\n",
    "std_test_rmse = np.std(test_rmse_array)\n",
    "\n",
    "# Print aggregated results\n",
    "print(f\"Aggregated Results Across Top 10 Motifs:\")\n",
    "print(f\"Mean Test Loss: {mean_test_loss} ± {std_test_loss}\")\n",
    "print(f\"Mean Test MAE: {mean_test_mae} ± {std_test_mae}\")\n",
    "print(f\"Mean Test RMSE: {mean_test_rmse} ± {std_test_rmse}\")\n",
    "\n"
   ]
  },
  {
   "cell_type": "code",
   "execution_count": 7,
   "metadata": {},
   "outputs": [
    {
     "name": "stdout",
     "output_type": "stream",
     "text": [
      "Evaluating motif 27 with size 12 and 58indexes\n",
      "X_series shape: torch.Size([1173, 504, 1])\n",
      "X_indices shape: torch.Size([1173, 18, 1])\n",
      "X_mask shape: torch.Size([1173, 504])\n",
      "y shape: torch.Size([1173, 1])\n"
     ]
    },
    {
     "data": {
      "application/vnd.jupyter.widget-view+json": {
       "model_id": "e3d0a75e19e3419da4458688c7756a34",
       "version_major": 2,
       "version_minor": 0
      },
      "text/plain": [
       "  0%|          | 0/1 [00:00<?, ?it/s]"
      ]
     },
     "metadata": {},
     "output_type": "display_data"
    },
    {
     "name": "stdout",
     "output_type": "stream",
     "text": [
      "Best hyperparameters: {'batch_size': 32}\n",
      "Best epoch: 0\n",
      "Test Loss: 1443.6171875, Test MAE: 20.3028564453125, Test RMSE: 37.99496078491211\n",
      "Best hyperparameters: {'batch_size': 32}\n",
      "Evaluating motif 6 with size 12 and 47indexes\n",
      "X_series shape: torch.Size([1032, 504, 1])\n",
      "X_indices shape: torch.Size([1032, 16, 1])\n",
      "X_mask shape: torch.Size([1032, 504])\n",
      "y shape: torch.Size([1032, 1])\n"
     ]
    },
    {
     "data": {
      "application/vnd.jupyter.widget-view+json": {
       "model_id": "fce1aef1e020467b9fe49031871e33a1",
       "version_major": 2,
       "version_minor": 0
      },
      "text/plain": [
       "  0%|          | 0/1 [00:00<?, ?it/s]"
      ]
     },
     "metadata": {},
     "output_type": "display_data"
    },
    {
     "name": "stdout",
     "output_type": "stream",
     "text": [
      "Best hyperparameters: {'batch_size': 32}\n",
      "Best epoch: 0\n",
      "Test Loss: 231.94805908203125, Test MAE: 7.3246750831604, Test RMSE: 15.229841232299805\n",
      "Best hyperparameters: {'batch_size': 32}\n",
      "Evaluating motif 24 with size 12 and 46indexes\n",
      "X_series shape: torch.Size([1122, 504, 1])\n",
      "X_indices shape: torch.Size([1122, 16, 1])\n",
      "X_mask shape: torch.Size([1122, 504])\n",
      "y shape: torch.Size([1122, 1])\n"
     ]
    },
    {
     "data": {
      "application/vnd.jupyter.widget-view+json": {
       "model_id": "53c58df31d294e4c83a76bf0ea0042a4",
       "version_major": 2,
       "version_minor": 0
      },
      "text/plain": [
       "  0%|          | 0/1 [00:00<?, ?it/s]"
      ]
     },
     "metadata": {},
     "output_type": "display_data"
    },
    {
     "name": "stdout",
     "output_type": "stream",
     "text": [
      "Best hyperparameters: {'batch_size': 32}\n",
      "Best epoch: 0\n",
      "Test Loss: 2102.571533203125, Test MAE: 27.71428680419922, Test RMSE: 45.85380554199219\n",
      "Best hyperparameters: {'batch_size': 32}\n",
      "Evaluating motif 12 with size 12 and 44indexes\n",
      "X_series shape: torch.Size([1050, 504, 1])\n",
      "X_indices shape: torch.Size([1050, 15, 1])\n",
      "X_mask shape: torch.Size([1050, 504])\n",
      "y shape: torch.Size([1050, 1])\n"
     ]
    },
    {
     "data": {
      "application/vnd.jupyter.widget-view+json": {
       "model_id": "8343a52bf73e425895b70269c10cdee8",
       "version_major": 2,
       "version_minor": 0
      },
      "text/plain": [
       "  0%|          | 0/1 [00:00<?, ?it/s]"
      ]
     },
     "metadata": {},
     "output_type": "display_data"
    },
    {
     "name": "stdout",
     "output_type": "stream",
     "text": [
      "Best hyperparameters: {'batch_size': 32}\n",
      "Best epoch: 0\n",
      "Test Loss: 134.91082763671875, Test MAE: 7.191082954406738, Test RMSE: 11.6151123046875\n",
      "Best hyperparameters: {'batch_size': 32}\n",
      "Evaluating motif 7 with size 12 and 38indexes\n",
      "X_series shape: torch.Size([979, 504, 1])\n",
      "X_indices shape: torch.Size([979, 12, 1])\n",
      "X_mask shape: torch.Size([979, 504])\n",
      "y shape: torch.Size([979, 1])\n"
     ]
    },
    {
     "data": {
      "application/vnd.jupyter.widget-view+json": {
       "model_id": "37cd608e9a554a29824949a4a304f0fe",
       "version_major": 2,
       "version_minor": 0
      },
      "text/plain": [
       "  0%|          | 0/1 [00:00<?, ?it/s]"
      ]
     },
     "metadata": {},
     "output_type": "display_data"
    },
    {
     "name": "stdout",
     "output_type": "stream",
     "text": [
      "Best hyperparameters: {'batch_size': 32}\n",
      "Best epoch: 0\n",
      "Test Loss: 1305.3424072265625, Test MAE: 30.109588623046875, Test RMSE: 36.12952423095703\n",
      "Best hyperparameters: {'batch_size': 32}\n",
      "Aggregated Results Across Top 10 Motifs:\n",
      "Mean Test Loss: 780.7655909220377 ± 720.7052249146766\n",
      "Mean Test MAE: 18.528497982025147 ± 9.754089929203774\n",
      "Mean Test RMSE: 29.364648818969727 ± 13.468310550248054\n"
     ]
    }
   ],
   "source": [
    "test_mae_list = []\n",
    "test_rmse_list = []\n",
    "# Loop through each of the top 10 motifs\n",
    "for i, top_motif in top_motifs.iterrows():\n",
    "\n",
    "    motif_indexes = sorted(ast.literal_eval(top_motif[\"Indices\"]))\n",
    "    \n",
    "    print(f\"Evaluating motif {i+1} with size {MOTIF_SIZE} and {len(motif_indexes)}indexes\")\n",
    "    \n",
    "    # Create dataset for the current motif\n",
    "    X_series, X_indices, X_mask, y = create_dataset(data, LOOKBACK_PERIOD, STEP, FORECAST_PERIOD, motif_indexes, MOTIF_SIZE)\n",
    "\n",
    "    # X_series, X2, and y are now PyTorch tensors\n",
    "    print(\"X_series shape:\", X_series.shape)  # Expected shape: (num_samples, LOOKBACK_PERIOD, num_features)\n",
    "    print(\"X_indices shape:\", X_indices.shape)  # Expected shape: (num_samples, max_motif_length_in_window, 1)\n",
    "    print(\"X_mask shape:\", X_mask.shape)  # Expected shape: (num_samples, max_motif_length_in_window)\n",
    "    print(\"y shape:\", y.shape)    # Expected shape: (num_samples, 1)\n",
    "    \n",
    "    # Define the model and run the Optuna study\n",
    "    n_trials = 1\n",
    "    num_epochs = 1\n",
    "    model_name = \"BaselineLastDifference\" \n",
    "    model_type = \"Baseline\"\n",
    "    \n",
    "    suggestion_dict = {\n",
    "        \"batch_size\": {\n",
    "            \"type\": \"categorical\",\n",
    "            \"args\": [[4, 8, 16, 32]]\n",
    "        }\n",
    "    }\n",
    "    \n",
    "    model_params_keys = []\n",
    "    \n",
    "    model_results_dir = os.path.join(RESULTS_DIR, f\"{model_name}_{n_trials}_trials_{num_epochs}_epochs_motif_{i+1}\")\n",
    "    os.makedirs(model_results_dir, exist_ok=True)  \n",
    "    \n",
    "    X = {\"X_series\": X_series, \"X_mask\": X_mask, \"X_indices\": X_indices}\n",
    "    normalize_flags = {\"X_series\": True, \"X_mask\": False, \"X_indices\": False}\n",
    "    \n",
    "    run_optuna_study(pipeline.run_train_val_test, eval(model_name), model_type, suggestion_dict,  model_params_keys, seed, X , y, normalize_flags, model_results_dir, n_trials=n_trials, num_epochs=num_epochs)\n",
    "    \n",
    "    study = joblib.load(os.path.join(model_results_dir, \"study.pkl\"))\n",
    "    train_losses, val_losses, best_epoch, test_loss, test_mae, test_rmse = get_best_model_results_traindevtest(study)\n",
    "    \n",
    "    print(f\"Best epoch: {best_epoch}\")\n",
    "    print(f\"Test Loss: {test_loss}, Test MAE: {test_mae}, Test RMSE: {test_rmse}\")\n",
    "\n",
    "    test_losses_list.append(test_loss)\n",
    "    test_mae_list.append(test_mae)\n",
    "    test_rmse_list.append(test_rmse)\n",
    "    \n",
    "    # Plot predictions vs true values\n",
    "    epochs_train_losses, epochs_val_losses, val_losses, test_losses, test_mae, test_rmse, all_predictions, all_true_values = get_preds_best_config_train_val_test(study, pipeline, eval(model_name), model_type, model_params_keys, num_epochs=num_epochs, seed=seed, X=X, y=y, normalize_flags=normalize_flags)\n",
    "    #plot_preds_vs_truevalues(np.ravel(all_true_values), np.ravel(all_predictions), fold=0, save_path=os.path.join(IMAGES_DIR, f\"{model_name}_{n_trials}_trials_{num_epochs}_epochs_motif_{i+1}_fold_{0}_predictions.png\"))\n",
    "\n",
    "\n",
    "# Convert lists to numpy arrays for easier calculations\n",
    "test_losses_array = np.array(test_losses_list)\n",
    "test_mae_array = np.array(test_mae_list)\n",
    "test_rmse_array = np.array(test_rmse_list)\n",
    "\n",
    "# Calculate mean and standard deviation\n",
    "mean_test_loss = np.mean(test_losses_array)\n",
    "std_test_loss = np.std(test_losses_array)\n",
    "\n",
    "mean_test_mae = np.mean(test_mae_array)\n",
    "std_test_mae = np.std(test_mae_array)\n",
    "\n",
    "mean_test_rmse = np.mean(test_rmse_array)\n",
    "std_test_rmse = np.std(test_rmse_array)\n",
    "\n",
    "# Print aggregated results\n",
    "print(f\"Aggregated Results Across Top 10 Motifs:\")\n",
    "print(f\"Mean Test Loss: {mean_test_loss} ± {std_test_loss}\")\n",
    "print(f\"Mean Test MAE: {mean_test_mae} ± {std_test_mae}\")\n",
    "print(f\"Mean Test RMSE: {mean_test_rmse} ± {std_test_rmse}\")"
   ]
  }
 ],
 "metadata": {
  "kernelspec": {
   "display_name": "torch_motifpredenv",
   "language": "python",
   "name": "python3"
  },
  "language_info": {
   "codemirror_mode": {
    "name": "ipython",
    "version": 3
   },
   "file_extension": ".py",
   "mimetype": "text/x-python",
   "name": "python",
   "nbconvert_exporter": "python",
   "pygments_lexer": "ipython3",
   "version": "3.12.2"
  }
 },
 "nbformat": 4,
 "nbformat_minor": 2
}
