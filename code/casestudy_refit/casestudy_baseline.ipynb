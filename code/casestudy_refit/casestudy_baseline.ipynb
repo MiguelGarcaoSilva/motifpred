{
 "cells": [
  {
   "cell_type": "code",
   "execution_count": 2,
   "metadata": {},
   "outputs": [
    {
     "name": "stderr",
     "output_type": "stream",
     "text": [
      "2025-02-08 16:20:08,338 - INFO - Results will be saved in: /home/mgsilva/motifpred/results/household\n",
      "2025-02-08 16:20:08,338 - INFO - Images will be saved in: /home/mgsilva/motifpred/images/household\n",
      "2025-02-08 16:20:08,339 - INFO - Data will be accessed from: /home/mgsilva/motifpred/data/household\n"
     ]
    },
    {
     "name": "stdout",
     "output_type": "stream",
     "text": [
      "Results will be saved in: /home/mgsilva/motifpred/results/household\n",
      "Images will be saved in: /home/mgsilva/motifpred/images/household\n",
      "Data will be accessed from: /home/mgsilva/motifpred/data/household\n"
     ]
    }
   ],
   "source": [
    "import numpy as np\n",
    "import pandas as pd\n",
    "import os\n",
    "import sys\n",
    "import csv\n",
    "import matplotlib.pyplot as plt\n",
    "import matplotlib.dates as mdates\n",
    "import matplotlib.image as mpimg\n",
    "import optuna\n",
    "import random\n",
    "import joblib\n",
    "import math\n",
    "import ast\n",
    "import logging\n",
    "from msig import Motif, NullModel\n",
    "from config import RESULTS_MOTIF_DIR, RESULTS_DIR, IMAGES_DIR, DATA_DIR, DATASET_PATH, VARIABLES, NORMALIZE_FLAGS, STUMPY_EXCL_ZONE_DENOM, TOP_K_MP, INCLUDE, NORMALIZE, SUBSQUENCES_LENGTHS, NTOP_MOTIFS, MOTIF_SIZE\n",
    "from config import LOOKBACK_PERIOD, STEP, FORECAST_PERIOD\n",
    "\n",
    "optuna.logging.set_verbosity(optuna.logging.WARNING)\n",
    "\n",
    "print(f\"Results will be saved in: {RESULTS_DIR}\")\n",
    "print(f\"Images will be saved in: {IMAGES_DIR}\")\n",
    "print(f\"Data will be accessed from: {DATA_DIR}\")\n",
    "\n",
    "\n",
    "if '__file__' in globals():\n",
    "    # For standalone scripts\n",
    "    base_dir = os.path.dirname(__file__)\n",
    "else:\n",
    "    # For Jupyter or interactive environments\n",
    "    base_dir = os.getcwd()\n",
    "\n",
    "# Add the parent directory of `utils` to the Python path\n",
    "sys.path.append(os.path.abspath(os.path.join(base_dir, \"../\")))"
   ]
  },
  {
   "cell_type": "code",
   "execution_count": 3,
   "metadata": {},
   "outputs": [],
   "source": [
    "mp_stats_table = pd.read_csv(\n",
    "    RESULTS_DIR / f\"mp_stats_table_normalized_{NORMALIZE}_top_{TOP_K_MP}.csv\"\n",
    ")\n",
    "mp_stats_table = mp_stats_table[mp_stats_table[\"m\"] == MOTIF_SIZE]\n",
    "top_motifs = mp_stats_table.sort_values(by=[\"#Matches\", \"ID\"], ascending=[False, True]).head(NTOP_MOTIFS)\n",
    "top_motifs = top_motifs[[\"m\", \"Indices\"]]"
   ]
  },
  {
   "cell_type": "code",
   "execution_count": 4,
   "metadata": {},
   "outputs": [
    {
     "name": "stdout",
     "output_type": "stream",
     "text": [
      "Device: cuda\n",
      "tensor([[0.3126, 0.3791, 0.3087],\n",
      "        [0.0736, 0.4216, 0.0691],\n",
      "        [0.2332, 0.4047, 0.2162],\n",
      "        [0.9927, 0.4128, 0.5938],\n",
      "        [0.6128, 0.1519, 0.0453]])\n"
     ]
    }
   ],
   "source": [
    "# Import shared setup\n",
    "from utils.setup import seed, device, early_stopper, pipeline, test_tensor\n",
    "\n",
    "# Example usage\n",
    "print(f\"Device: {device}\")\n",
    "test_tensor()"
   ]
  },
  {
   "cell_type": "code",
   "execution_count": 5,
   "metadata": {},
   "outputs": [
    {
     "data": {
      "text/plain": [
       "array([[1.2944, 1.3644, 1.4672, ..., 0.7808, 0.7676, 0.634 ],\n",
       "       [0.    , 0.0776, 0.2188, ..., 0.1644, 0.1492, 0.0608]])"
      ]
     },
     "execution_count": 5,
     "metadata": {},
     "output_type": "execute_result"
    }
   ],
   "source": [
    "#load data as \n",
    "data_df = pd.read_csv(DATASET_PATH, index_col=0).astype(float)\n",
    "data_df = data_df[VARIABLES]\n",
    "labels = pd.read_csv(DATA_DIR  / f\"labels.csv\", index_col=0).astype(float)\n",
    "data = data_df.values.T\n",
    "data"
   ]
  },
  {
   "cell_type": "code",
   "execution_count": 6,
   "metadata": {},
   "outputs": [
    {
     "name": "stdout",
     "output_type": "stream",
     "text": [
      "Evaluating motif 5 with size 24 and 359 indexes \n",
      "X_series shape: torch.Size([2977, 576, 2])\n",
      "X_indices shape: torch.Size([2977, 22, 1])\n",
      "X_mask shape: torch.Size([2977, 576])\n",
      "y shape: torch.Size([2977, 1])\n"
     ]
    },
    {
     "data": {
      "application/vnd.jupyter.widget-view+json": {
       "model_id": "92533ebd879643f9bcf8d34ab915b6b4",
       "version_major": 2,
       "version_minor": 0
      },
      "text/plain": [
       "  0%|          | 0/1 [00:00<?, ?it/s]"
      ]
     },
     "metadata": {},
     "output_type": "display_data"
    },
    {
     "name": "stdout",
     "output_type": "stream",
     "text": [
      "Best hyperparameters: {'batch_size': 128}\n",
      "Best epoch: 0\n",
      "Test Loss: 1746.0968017578125, Test MAE: 31.11246681213379, Test RMSE: 41.78632354736328\n",
      "Evaluating motif 17 with size 24 and 358 indexes \n",
      "X_series shape: torch.Size([2974, 576, 2])\n",
      "X_indices shape: torch.Size([2974, 20, 1])\n",
      "X_mask shape: torch.Size([2974, 576])\n",
      "y shape: torch.Size([2974, 1])\n"
     ]
    },
    {
     "data": {
      "application/vnd.jupyter.widget-view+json": {
       "model_id": "5e689c657deb466bbf96454ce38b1d2e",
       "version_major": 2,
       "version_minor": 0
      },
      "text/plain": [
       "  0%|          | 0/1 [00:00<?, ?it/s]"
      ]
     },
     "metadata": {},
     "output_type": "display_data"
    },
    {
     "name": "stdout",
     "output_type": "stream",
     "text": [
      "Best hyperparameters: {'batch_size': 128}\n",
      "Best epoch: 0\n",
      "Test Loss: 1394.7540283203125, Test MAE: 29.24692153930664, Test RMSE: 37.346405029296875\n",
      "Evaluating motif 1 with size 24 and 298 indexes \n",
      "X_series shape: torch.Size([2987, 576, 2])\n",
      "X_indices shape: torch.Size([2987, 17, 1])\n",
      "X_mask shape: torch.Size([2987, 576])\n",
      "y shape: torch.Size([2987, 1])\n"
     ]
    },
    {
     "data": {
      "application/vnd.jupyter.widget-view+json": {
       "model_id": "84dce3c9db534ff38676d83da21e0ba1",
       "version_major": 2,
       "version_minor": 0
      },
      "text/plain": [
       "  0%|          | 0/1 [00:00<?, ?it/s]"
      ]
     },
     "metadata": {},
     "output_type": "display_data"
    },
    {
     "name": "stdout",
     "output_type": "stream",
     "text": [
      "Best hyperparameters: {'batch_size': 128}\n",
      "Best epoch: 0\n",
      "Test Loss: 1608.72607421875, Test MAE: 32.095664978027344, Test RMSE: 40.10892868041992\n",
      "Evaluating motif 7 with size 24 and 279 indexes \n",
      "X_series shape: torch.Size([2984, 576, 2])\n",
      "X_indices shape: torch.Size([2984, 22, 1])\n",
      "X_mask shape: torch.Size([2984, 576])\n",
      "y shape: torch.Size([2984, 1])\n"
     ]
    },
    {
     "data": {
      "application/vnd.jupyter.widget-view+json": {
       "model_id": "9a2922289f8f4aa6ac4dc09d1282fe29",
       "version_major": 2,
       "version_minor": 0
      },
      "text/plain": [
       "  0%|          | 0/1 [00:00<?, ?it/s]"
      ]
     },
     "metadata": {},
     "output_type": "display_data"
    },
    {
     "name": "stdout",
     "output_type": "stream",
     "text": [
      "Best hyperparameters: {'batch_size': 128}\n",
      "Best epoch: 0\n",
      "Test Loss: 6922.31201171875, Test MAE: 66.61323547363281, Test RMSE: 83.20043182373047\n",
      "Evaluating motif 6 with size 24 and 268 indexes \n",
      "X_series shape: torch.Size([2887, 576, 2])\n",
      "X_indices shape: torch.Size([2887, 25, 1])\n",
      "X_mask shape: torch.Size([2887, 576])\n",
      "y shape: torch.Size([2887, 1])\n"
     ]
    },
    {
     "data": {
      "application/vnd.jupyter.widget-view+json": {
       "model_id": "3e455661ce6a4228a591424c2688e4eb",
       "version_major": 2,
       "version_minor": 0
      },
      "text/plain": [
       "  0%|          | 0/1 [00:00<?, ?it/s]"
      ]
     },
     "metadata": {},
     "output_type": "display_data"
    },
    {
     "name": "stdout",
     "output_type": "stream",
     "text": [
      "Best hyperparameters: {'batch_size': 128}\n",
      "Best epoch: 0\n",
      "Test Loss: 1489.165283203125, Test MAE: 28.105087280273438, Test RMSE: 38.58970260620117\n",
      "Aggregated Results Across Top 10 Motifs:\n",
      "Mean Test Loss: 2632.21083984375 ± 2148.280229570821\n",
      "Mean Test MAE: 37.434675216674805 ± 14.655676370963318\n",
      "Mean Test RMSE: 48.20635833740234 ± 17.560119852827306\n"
     ]
    }
   ],
   "source": [
    "from utils.utils import create_dataset\n",
    "from utils.train_pipeline import run_optuna_study\n",
    "from utils.utils import get_best_model_results_traindevtest, plot_best_model_results_traindevtest\n",
    "from models.baseline_pytorch import BaselineAverage, BaselineLastDifference\n",
    "from utils.utils import plot_preds_vs_truevalues\n",
    "from utils.train_pipeline import get_preds_best_config_train_val_test\n",
    "\n",
    "\n",
    "test_losses_list, test_mae_list, test_rmse_list  = [], [], []\n",
    "# Loop through each of the top 10 motifs\n",
    "for i, top_motif in top_motifs.iterrows():\n",
    "    motif_indexes = sorted(ast.literal_eval(top_motif[\"Indices\"]))\n",
    "    \n",
    "    print(f\"Evaluating motif {i} with size {MOTIF_SIZE} and {len(motif_indexes)} indexes \")\n",
    "    \n",
    "    # Create dataset for the current motif\n",
    "    X_series, X_indices, X_mask, y = create_dataset(data, LOOKBACK_PERIOD, STEP, FORECAST_PERIOD, motif_indexes, MOTIF_SIZE)\n",
    "\n",
    "    # X_series, X2, and y are now PyTorch tensors\n",
    "    print(\"X_series shape:\", X_series.shape)  # Expected shape: (num_samples, lookback_period, num_features)\n",
    "    print(\"X_indices shape:\", X_indices.shape)  # Expected shape: (num_samples, max_motif_length_in_window, 1)\n",
    "    print(\"X_mask shape:\", X_mask.shape)  # Expected shape: (num_samples, max_motif_length_in_window)\n",
    "    print(\"y shape:\", y.shape)    # Expected shape: (num_samples, 1)\n",
    "    \n",
    "    # Define the model and run the Optuna study\n",
    "    n_trials = 1\n",
    "    num_epochs = 1\n",
    "    model_name = \"BaselineAverage\" \n",
    "    model_type = \"Baseline\"\n",
    "    \n",
    "    suggestion_dict = {\n",
    "        \"batch_size\": {\n",
    "            \"type\": \"categorical\",\n",
    "            \"args\": [[4,8, 16, 32, 64, 128]]\n",
    "        }\n",
    "    }\n",
    "    \n",
    "    model_params_keys = []\n",
    "    \n",
    "    model_results_dir = os.path.join(RESULTS_DIR, f\"{model_name}_{n_trials}_trials_{num_epochs}_epochs_motif_{i+1}\")\n",
    "    os.makedirs(model_results_dir, exist_ok=True)  \n",
    "    \n",
    "    X = {\"X_series\": X_series, \"X_mask\": X_mask, \"X_indices\": X_indices}\n",
    "    normalize_flags = {\"X_series\": True, \"X_mask\": False, \"X_indices\": False}\n",
    "    \n",
    "    run_optuna_study(pipeline.run_train_val_test, eval(model_name), model_type, suggestion_dict,  model_params_keys, seed, X , y, normalize_flags, model_results_dir, n_trials=n_trials, num_epochs=num_epochs)\n",
    "    \n",
    "    study = joblib.load(os.path.join(model_results_dir, \"study.pkl\"))\n",
    "    train_losses, val_losses, best_epoch, test_loss, test_mae, test_rmse = get_best_model_results_traindevtest(study)\n",
    "    \n",
    "    print(f\"Best epoch: {best_epoch}\")\n",
    "    print(f\"Test Loss: {test_loss}, Test MAE: {test_mae}, Test RMSE: {test_rmse}\")\n",
    "\n",
    "    test_losses_list.append(test_loss)\n",
    "    test_mae_list.append(test_mae)\n",
    "    test_rmse_list.append(test_rmse)\n",
    "    \n",
    "    # Plot predictions vs true values\n",
    "    #epochs_train_losses, epochs_val_losses, val_losses, test_losses, test_mae, test_rmse, all_predictions, all_true_values = get_preds_best_config_train_val_test(study, pipeline, eval(model_name), model_type, model_params_keys, num_epochs=num_epochs, seed=seed, X=X, y=y, normalize_flags=normalize_flags)\n",
    "    #plot_preds_vs_truevalues(np.ravel(all_true_values), np.ravel(all_predictions), fold=0, save_path=os.path.join(IMAGES_DIR, f\"{model_name}_{n_trials}_trials_{num_epochs}_epochs_motif_{i+1}_fold_{0}_predictions.png\"))\n",
    "\n",
    "\n",
    "# Convert lists to numpy arrays for easier calculations\n",
    "test_losses_array = np.array(test_losses_list)\n",
    "test_mae_array = np.array(test_mae_list)\n",
    "test_rmse_array = np.array(test_rmse_list)\n",
    "\n",
    "# Calculate mean and standard deviation\n",
    "mean_test_loss = np.mean(test_losses_array)\n",
    "std_test_loss = np.std(test_losses_array)\n",
    "\n",
    "mean_test_mae = np.mean(test_mae_array)\n",
    "std_test_mae = np.std(test_mae_array)\n",
    "\n",
    "mean_test_rmse = np.mean(test_rmse_array)\n",
    "std_test_rmse = np.std(test_rmse_array)\n",
    "\n",
    "# Print aggregated results\n",
    "print(f\"Aggregated Results Across Top 10 Motifs:\")\n",
    "print(f\"Mean Test Loss: {mean_test_loss} ± {std_test_loss}\")\n",
    "print(f\"Mean Test MAE: {mean_test_mae} ± {std_test_mae}\")\n",
    "print(f\"Mean Test RMSE: {mean_test_rmse} ± {std_test_rmse}\")"
   ]
  },
  {
   "cell_type": "code",
   "execution_count": 7,
   "metadata": {},
   "outputs": [
    {
     "name": "stdout",
     "output_type": "stream",
     "text": [
      "Evaluating motif 6 with size 24 and 359 indexes \n",
      "X_series shape: torch.Size([2977, 576, 2])\n",
      "X_indices shape: torch.Size([2977, 22, 1])\n",
      "X_mask shape: torch.Size([2977, 576])\n",
      "y shape: torch.Size([2977, 1])\n"
     ]
    },
    {
     "data": {
      "application/vnd.jupyter.widget-view+json": {
       "model_id": "ff859883886640c4bf425c6227a6300b",
       "version_major": 2,
       "version_minor": 0
      },
      "text/plain": [
       "  0%|          | 0/1 [00:00<?, ?it/s]"
      ]
     },
     "metadata": {},
     "output_type": "display_data"
    },
    {
     "name": "stdout",
     "output_type": "stream",
     "text": [
      "Best hyperparameters: {'batch_size': 128}\n",
      "Best epoch: 0\n",
      "Test Loss: 2196.96435546875, Test MAE: 35.062782287597656, Test RMSE: 46.871788024902344\n",
      "Evaluating motif 18 with size 24 and 358 indexes \n",
      "X_series shape: torch.Size([2974, 576, 2])\n",
      "X_indices shape: torch.Size([2974, 20, 1])\n",
      "X_mask shape: torch.Size([2974, 576])\n",
      "y shape: torch.Size([2974, 1])\n"
     ]
    },
    {
     "data": {
      "application/vnd.jupyter.widget-view+json": {
       "model_id": "b044f92ca1ef4d21a828bc6f7631fcb8",
       "version_major": 2,
       "version_minor": 0
      },
      "text/plain": [
       "  0%|          | 0/1 [00:00<?, ?it/s]"
      ]
     },
     "metadata": {},
     "output_type": "display_data"
    },
    {
     "name": "stdout",
     "output_type": "stream",
     "text": [
      "Best hyperparameters: {'batch_size': 128}\n",
      "Best epoch: 0\n",
      "Test Loss: 2009.228759765625, Test MAE: 32.11659240722656, Test RMSE: 44.82442092895508\n",
      "Evaluating motif 2 with size 24 and 298 indexes \n",
      "X_series shape: torch.Size([2987, 576, 2])\n",
      "X_indices shape: torch.Size([2987, 17, 1])\n",
      "X_mask shape: torch.Size([2987, 576])\n",
      "y shape: torch.Size([2987, 1])\n"
     ]
    },
    {
     "data": {
      "application/vnd.jupyter.widget-view+json": {
       "model_id": "ff47954ba7974a0ab917d5b1da38fdc3",
       "version_major": 2,
       "version_minor": 0
      },
      "text/plain": [
       "  0%|          | 0/1 [00:00<?, ?it/s]"
      ]
     },
     "metadata": {},
     "output_type": "display_data"
    },
    {
     "name": "stdout",
     "output_type": "stream",
     "text": [
      "Best hyperparameters: {'batch_size': 128}\n",
      "Best epoch: 0\n",
      "Test Loss: 2750.3974609375, Test MAE: 40.12946701049805, Test RMSE: 52.44423294067383\n",
      "Evaluating motif 8 with size 24 and 279 indexes \n",
      "X_series shape: torch.Size([2984, 576, 2])\n",
      "X_indices shape: torch.Size([2984, 22, 1])\n",
      "X_mask shape: torch.Size([2984, 576])\n",
      "y shape: torch.Size([2984, 1])\n"
     ]
    },
    {
     "data": {
      "application/vnd.jupyter.widget-view+json": {
       "model_id": "ba8bd4d575734b85b1bbb48b2f24827a",
       "version_major": 2,
       "version_minor": 0
      },
      "text/plain": [
       "  0%|          | 0/1 [00:00<?, ?it/s]"
      ]
     },
     "metadata": {},
     "output_type": "display_data"
    },
    {
     "name": "stdout",
     "output_type": "stream",
     "text": [
      "Best hyperparameters: {'batch_size': 128}\n",
      "Best epoch: 0\n",
      "Test Loss: 5800.81640625, Test MAE: 59.326622009277344, Test RMSE: 76.16309356689453\n",
      "Evaluating motif 7 with size 24 and 268 indexes \n",
      "X_series shape: torch.Size([2887, 576, 2])\n",
      "X_indices shape: torch.Size([2887, 25, 1])\n",
      "X_mask shape: torch.Size([2887, 576])\n",
      "y shape: torch.Size([2887, 1])\n"
     ]
    },
    {
     "data": {
      "application/vnd.jupyter.widget-view+json": {
       "model_id": "4d0198b296db4e1dacf82eb09a06a83e",
       "version_major": 2,
       "version_minor": 0
      },
      "text/plain": [
       "  0%|          | 0/1 [00:00<?, ?it/s]"
      ]
     },
     "metadata": {},
     "output_type": "display_data"
    },
    {
     "name": "stdout",
     "output_type": "stream",
     "text": [
      "Best hyperparameters: {'batch_size': 128}\n",
      "Best epoch: 0\n",
      "Test Loss: 2349.140869140625, Test MAE: 35.6027717590332, Test RMSE: 48.46793746948242\n",
      "Aggregated Results Across Top 10 Motifs:\n",
      "Mean Test Loss: 3021.3095703125 ± 1411.0077948174062\n",
      "Mean Test MAE: 40.44764709472656 ± 9.78154374938658\n",
      "Mean Test RMSE: 53.75429458618164 ± 11.479787845935025\n"
     ]
    }
   ],
   "source": [
    "test_losses_list, test_mae_list, test_rmse_list  = [], [], []\n",
    "# Loop through each of the top 10 motifs\n",
    "for i, top_motif in top_motifs.iterrows():\n",
    "    motif_indexes = sorted(ast.literal_eval(top_motif[\"Indices\"]))\n",
    "    \n",
    "    print(f\"Evaluating motif {i+1} with size {MOTIF_SIZE} and {len(motif_indexes)} indexes \")\n",
    "    \n",
    "    # Create dataset for the current motif\n",
    "    X_series, X_indices, X_mask, y = create_dataset(data, LOOKBACK_PERIOD, STEP, FORECAST_PERIOD, motif_indexes, MOTIF_SIZE)\n",
    "\n",
    "    # X_series, X2, and y are now PyTorch tensors\n",
    "    print(\"X_series shape:\", X_series.shape)  # Expected shape: (num_samples, LOOKBACK_PERIOD, num_features)\n",
    "    print(\"X_indices shape:\", X_indices.shape)  # Expected shape: (num_samples, max_motif_length_in_window, 1)\n",
    "    print(\"X_mask shape:\", X_mask.shape)  # Expected shape: (num_samples, max_motif_length_in_window)\n",
    "    print(\"y shape:\", y.shape)    # Expected shape: (num_samples, 1)\n",
    "    \n",
    "    # Define the model and run the Optuna study\n",
    "    n_trials = 1\n",
    "    num_epochs = 1\n",
    "    model_name = \"BaselineLastDifference\" \n",
    "    model_type = \"Baseline\"\n",
    "    \n",
    "    suggestion_dict = {\n",
    "        \"batch_size\": {\n",
    "            \"type\": \"categorical\",\n",
    "            \"args\": [[16, 32, 64, 128]]\n",
    "        }\n",
    "    }\n",
    "    \n",
    "    model_params_keys = []\n",
    "    \n",
    "    model_results_dir = os.path.join(RESULTS_DIR, f\"{model_name}_{n_trials}_trials_{num_epochs}_epochs_motif_{i+1}\")\n",
    "    os.makedirs(model_results_dir, exist_ok=True)  \n",
    "    \n",
    "    X = {\"X_series\": X_series, \"X_mask\": X_mask, \"X_indices\": X_indices}\n",
    "    normalize_flags = {\"X_series\": True, \"X_mask\": False, \"X_indices\": False}\n",
    "    \n",
    "    run_optuna_study(pipeline.run_train_val_test, eval(model_name), model_type, suggestion_dict,  model_params_keys, seed, X , y, normalize_flags, model_results_dir, n_trials=n_trials, num_epochs=num_epochs)\n",
    "    \n",
    "    study = joblib.load(os.path.join(model_results_dir, \"study.pkl\"))\n",
    "    train_losses, val_losses, best_epoch, test_loss, test_mae, test_rmse = get_best_model_results_traindevtest(study)\n",
    "    \n",
    "    print(f\"Best epoch: {best_epoch}\")\n",
    "    print(f\"Test Loss: {test_loss}, Test MAE: {test_mae}, Test RMSE: {test_rmse}\")\n",
    "\n",
    "    test_losses_list.append(test_loss)\n",
    "    test_mae_list.append(test_mae)\n",
    "    test_rmse_list.append(test_rmse)\n",
    "    \n",
    "    # Plot predictions vs true values\n",
    "    #epochs_train_losses, epochs_val_losses, val_losses, test_losses, test_mae, test_rmse, all_predictions, all_true_values = get_preds_best_config_train_val_test(study, pipeline, eval(model_name), model_type, model_params_keys, num_epochs=num_epochs, seed=seed, X=X, y=y, normalize_flags=normalize_flags)\n",
    "    #plot_preds_vs_truevalues(np.ravel(all_true_values), np.ravel(all_predictions), fold=0, save_path=os.path.join(IMAGES_DIR, f\"{model_name}_{n_trials}_trials_{num_epochs}_epochs_motif_{i+1}_fold_{0}_predictions.png\"))\n",
    "\n",
    "\n",
    "# Convert lists to numpy arrays for easier calculations\n",
    "test_losses_array = np.array(test_losses_list)\n",
    "test_mae_array = np.array(test_mae_list)\n",
    "test_rmse_array = np.array(test_rmse_list)\n",
    "\n",
    "# Calculate mean and standard deviation\n",
    "mean_test_loss = np.mean(test_losses_array)\n",
    "std_test_loss = np.std(test_losses_array)\n",
    "\n",
    "mean_test_mae = np.mean(test_mae_array)\n",
    "std_test_mae = np.std(test_mae_array)\n",
    "\n",
    "mean_test_rmse = np.mean(test_rmse_array)\n",
    "std_test_rmse = np.std(test_rmse_array)\n",
    "\n",
    "# Print aggregated results\n",
    "print(f\"Aggregated Results Across Top 10 Motifs:\")\n",
    "print(f\"Mean Test Loss: {mean_test_loss} ± {std_test_loss}\")\n",
    "print(f\"Mean Test MAE: {mean_test_mae} ± {std_test_mae}\")\n",
    "print(f\"Mean Test RMSE: {mean_test_rmse} ± {std_test_rmse}\")"
   ]
  }
 ],
 "metadata": {
  "kernelspec": {
   "display_name": "torch_motifpredenv",
   "language": "python",
   "name": "python3"
  },
  "language_info": {
   "codemirror_mode": {
    "name": "ipython",
    "version": 3
   },
   "file_extension": ".py",
   "mimetype": "text/x-python",
   "name": "python",
   "nbconvert_exporter": "python",
   "pygments_lexer": "ipython3",
   "version": "3.12.2"
  }
 },
 "nbformat": 4,
 "nbformat_minor": 2
}
