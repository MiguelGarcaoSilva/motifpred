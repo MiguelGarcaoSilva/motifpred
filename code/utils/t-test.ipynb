{
 "cells": [
  {
   "cell_type": "code",
   "execution_count": 1,
   "metadata": {},
   "outputs": [],
   "source": [
    "import numpy as np\n",
    "from scipy import stats\n",
    "rng = np.random.default_rng()\n",
    "from scipy.stats import ttest_rel\n"
   ]
  },
  {
   "cell_type": "code",
   "execution_count": 2,
   "metadata": {},
   "outputs": [],
   "source": [
    "scores1 = [0.09073492, 0.040341754, 0.017530836, 0.14550069, 0.049115017]\n",
    "scores2 = [2.513309, 2.406264, 2.4198136, 1.2763404, 2.267976]\n",
    "scores3 = [1.7238958, 2.8241177, 2.8976955, 2.3258438, 3.0820825]\n",
    "\n",
    "scores4 = [0.031736817, 0.033536598, 0.008110153, 0.090565175, 0.014982849]\n",
    "scores5 = [1.606014e-07, 1.7550256e-07, 3.0795732e-07, 1.3576613e-07, 1.291434e-07]\n",
    "scores6 = [0.8971598, 0.73491395, 1.0111842, 0.8768941, 0.71391386]\n",
    "\n",
    "scores7 = [0.053916946, 0.10930785, 0.041789025, 0.06515512, 0.020881662]\n",
    "scores8 = [2.7318796e-07, 1.7881393e-07, 3.4769377e-07, 1.821253e-07, 3.112687e-07]\n",
    "scores9 = [1.9205942e-07, 5.9604645e-08, 2.7484364e-07, 2.2848447e-07, 9.602971e-08]"
   ]
  },
  {
   "cell_type": "code",
   "execution_count": 9,
   "metadata": {},
   "outputs": [
    {
     "name": "stdout",
     "output_type": "stream",
     "text": [
      "P-value: 5.215563808405961e-05\n"
     ]
    }
   ],
   "source": [
    "t_statistic, p_value = ttest_rel(scores5, scores6, alternative='less')\n",
    "print(f\"P-value: {p_value}\")\n",
    "5.2e-05"
   ]
  },
  {
   "cell_type": "code",
   "execution_count": 10,
   "metadata": {},
   "outputs": [],
   "source": [
    "scores1 = [1.4214613, 4.299374, 8.347052, 7.2301536, 3.2084775]\n",
    "scores2 = [3.1503668, 3.1528528, 4.167579, 4.0318823, 3.9142046]\n",
    "scores3 =  [1.3261932, 2.1841054, 2.5251598, 2.4807148, 1.5628479]\n",
    "\n",
    "scores4 = [3.0335708, 5.4594398, 5.8225393, 6.21306, 4.0326104]\n",
    "scores5 = [4.7476897, 5.240839, 7.1016145, 5.8361645, 6.111167]\n",
    "scores6 = [3.7999074, 3.916133, 7.6505103, 4.8363485, 4.887535]\n",
    "\n",
    "scores7 = [4.486573, 5.124004, 5.9011207, 6.620809, 4.2421074]\n",
    "scores8 = [4.695086, 5.3163033, 7.225757, 6.1144276, 5.585602]\n",
    "scores9 = [3.3627372, 3.8669517, 8.142241, 4.3515677, 4.5182166]\n"
   ]
  },
  {
   "cell_type": "code",
   "execution_count": 14,
   "metadata": {},
   "outputs": [
    {
     "name": "stdout",
     "output_type": "stream",
     "text": [
      "P-value: 0.0008549820807010275\n"
     ]
    }
   ],
   "source": [
    "t_statistic, p_value = ttest_rel(scores3, scores2, alternative='less')\n",
    "print(f\"P-value: {p_value}\")"
   ]
  }
 ],
 "metadata": {
  "kernelspec": {
   "display_name": "motifpredenv",
   "language": "python",
   "name": "python3"
  },
  "language_info": {
   "codemirror_mode": {
    "name": "ipython",
    "version": 3
   },
   "file_extension": ".py",
   "mimetype": "text/x-python",
   "name": "python",
   "nbconvert_exporter": "python",
   "pygments_lexer": "ipython3",
   "version": "3.9.19"
  }
 },
 "nbformat": 4,
 "nbformat_minor": 2
}
